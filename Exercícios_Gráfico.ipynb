{
  "nbformat": 4,
  "nbformat_minor": 0,
  "metadata": {
    "colab": {
      "provenance": [],
      "authorship_tag": "ABX9TyNyAuHPBJXuKf3s4QcdAUrs",
      "include_colab_link": true
    },
    "kernelspec": {
      "name": "python3",
      "display_name": "Python 3"
    },
    "language_info": {
      "name": "python"
    }
  },
  "cells": [
    {
      "cell_type": "markdown",
      "metadata": {
        "id": "view-in-github",
        "colab_type": "text"
      },
      "source": [
        "<a href=\"https://colab.research.google.com/github/Fabiorsi1979/FTC_Analisando_dados/blob/main/Exerc%C3%ADcios_Gr%C3%A1fico.ipynb\" target=\"_parent\"><img src=\"https://colab.research.google.com/assets/colab-badge.svg\" alt=\"Open In Colab\"/></a>"
      ]
    },
    {
      "cell_type": "code",
      "source": [
        "import pandas as pd\n",
        "from google.colab import drive\n",
        "\n",
        "drive.mount('/content/drive')\n",
        "\n",
        "path = '/content/drive/MyDrive/train_limpo.csv'\n",
        "\n",
        "dados = pd.read_csv(path)"
      ],
      "metadata": {
        "id": "v90Efxg63GBF"
      },
      "execution_count": null,
      "outputs": []
    },
    {
      "cell_type": "markdown",
      "source": [
        "\n",
        "# Exercícios de fixação do conceito"
      ],
      "metadata": {
        "id": "lLG9EGyS2rXT"
      }
    },
    {
      "cell_type": "code",
      "source": [
        "df = dados.copy()"
      ],
      "metadata": {
        "id": "TROAROMw4T8P"
      },
      "execution_count": null,
      "outputs": []
    },
    {
      "cell_type": "markdown",
      "source": [
        "1- Desenhar um gráfico de pizza com a média de idade dos entregadores\n",
        "por cidade"
      ],
      "metadata": {
        "id": "GGdtRmx83CDZ"
      }
    },
    {
      "cell_type": "code",
      "execution_count": 1,
      "metadata": {
        "id": "Cav4H1ju2jhP"
      },
      "outputs": [],
      "source": []
    },
    {
      "cell_type": "markdown",
      "source": [
        "2- Desenhe um gráfico de linha, mostrando o número total de entregas\n",
        "diárias feitas por densidade de tráfego igual a “Low” e “Jam”"
      ],
      "metadata": {
        "id": "SevuGGth3Cau"
      }
    },
    {
      "cell_type": "code",
      "source": [],
      "metadata": {
        "id": "khcW-VKX2qjS"
      },
      "execution_count": 1,
      "outputs": []
    },
    {
      "cell_type": "markdown",
      "source": [
        "3- Desenhe um gráfico de barras, mostrando as avaliações médias das\n",
        "entregas por semana."
      ],
      "metadata": {
        "id": "_QwYBWqx3Nr5"
      }
    },
    {
      "cell_type": "code",
      "source": [],
      "metadata": {
        "id": "mTXTBptS3N_h"
      },
      "execution_count": 1,
      "outputs": []
    },
    {
      "cell_type": "markdown",
      "source": [
        "4- Desenhe um gráfico de pizza, mostrando a média de avaliações das\n",
        "entregas feitas por condições climáticas?"
      ],
      "metadata": {
        "id": "zjhA38Kg3Yz0"
      }
    },
    {
      "cell_type": "code",
      "source": [],
      "metadata": {
        "id": "Uc36BEc83Zmr"
      },
      "execution_count": 1,
      "outputs": []
    }
  ]
}