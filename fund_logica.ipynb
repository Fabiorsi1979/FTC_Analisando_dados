{
  "cells": [
    {
      "cell_type": "markdown",
      "metadata": {
        "id": "pobVxfhQzVB7"
      },
      "source": [
        "# Fundamentos de Lógica de Programação"
      ]
    },
    {
      "cell_type": "code",
      "execution_count": 1,
      "metadata": {
        "colab": {
          "base_uri": "https://localhost:8080/"
        },
        "collapsed": true,
        "id": "-QV6ocZQuYpO",
        "outputId": "26fa0889-368a-46bb-deb6-83f97872f033"
      },
      "outputs": [
        {
          "output_type": "stream",
          "name": "stdout",
          "text": [
            "\u001b[2K     \u001b[90m━━━━━━━━━━━━━━━━━━━━━━━━━━━━━━━━━━━━━━━━\u001b[0m \u001b[32m50.4/50.4 kB\u001b[0m \u001b[31m3.0 MB/s\u001b[0m eta \u001b[36m0:00:00\u001b[0m\n",
            "\u001b[2K   \u001b[90m━━━━━━━━━━━━━━━━━━━━━━━━━━━━━━━━━━━━━━━━\u001b[0m \u001b[32m12.6/12.6 MB\u001b[0m \u001b[31m89.1 MB/s\u001b[0m eta \u001b[36m0:00:00\u001b[0m\n",
            "\u001b[2K   \u001b[90m━━━━━━━━━━━━━━━━━━━━━━━━━━━━━━━━━━━━━━━━\u001b[0m \u001b[32m318.7/318.7 kB\u001b[0m \u001b[31m19.3 MB/s\u001b[0m eta \u001b[36m0:00:00\u001b[0m\n",
            "\u001b[2K   \u001b[90m━━━━━━━━━━━━━━━━━━━━━━━━━━━━━━━━━━━━━━━━\u001b[0m \u001b[32m75.6/75.6 kB\u001b[0m \u001b[31m4.8 MB/s\u001b[0m eta \u001b[36m0:00:00\u001b[0m\n",
            "\u001b[2K   \u001b[90m━━━━━━━━━━━━━━━━━━━━━━━━━━━━━━━━━━━━━━━━\u001b[0m \u001b[32m77.9/77.9 kB\u001b[0m \u001b[31m5.4 MB/s\u001b[0m eta \u001b[36m0:00:00\u001b[0m\n",
            "\u001b[2K   \u001b[90m━━━━━━━━━━━━━━━━━━━━━━━━━━━━━━━━━━━━━━━━\u001b[0m \u001b[32m141.9/141.9 kB\u001b[0m \u001b[31m9.4 MB/s\u001b[0m eta \u001b[36m0:00:00\u001b[0m\n",
            "\u001b[2K   \u001b[90m━━━━━━━━━━━━━━━━━━━━━━━━━━━━━━━━━━━━━━━━\u001b[0m \u001b[32m10.2/10.2 MB\u001b[0m \u001b[31m97.1 MB/s\u001b[0m eta \u001b[36m0:00:00\u001b[0m\n",
            "\u001b[2K   \u001b[90m━━━━━━━━━━━━━━━━━━━━━━━━━━━━━━━━━━━━━━━━\u001b[0m \u001b[32m62.8/62.8 kB\u001b[0m \u001b[31m4.0 MB/s\u001b[0m eta \u001b[36m0:00:00\u001b[0m\n",
            "\u001b[2K   \u001b[90m━━━━━━━━━━━━━━━━━━━━━━━━━━━━━━━━━━━━━━━━\u001b[0m \u001b[32m93.2/93.2 kB\u001b[0m \u001b[31m6.5 MB/s\u001b[0m eta \u001b[36m0:00:00\u001b[0m\n",
            "\u001b[2K   \u001b[90m━━━━━━━━━━━━━━━━━━━━━━━━━━━━━━━━━━━━━━━━\u001b[0m \u001b[32m58.3/58.3 kB\u001b[0m \u001b[31m3.5 MB/s\u001b[0m eta \u001b[36m0:00:00\u001b[0m\n",
            "\u001b[2K   \u001b[90m━━━━━━━━━━━━━━━━━━━━━━━━━━━━━━━━━━━━━━━━\u001b[0m \u001b[32m72.0/72.0 kB\u001b[0m \u001b[31m4.6 MB/s\u001b[0m eta \u001b[36m0:00:00\u001b[0m\n",
            "\u001b[2K   \u001b[90m━━━━━━━━━━━━━━━━━━━━━━━━━━━━━━━━━━━━━━━━\u001b[0m \u001b[32m130.2/130.2 kB\u001b[0m \u001b[31m8.8 MB/s\u001b[0m eta \u001b[36m0:00:00\u001b[0m\n",
            "\u001b[?25h"
          ]
        }
      ],
      "source": [
        "!pip install -q gradio"
      ]
    },
    {
      "cell_type": "code",
      "execution_count": 2,
      "metadata": {
        "id": "weUIZ96Xux3u"
      },
      "outputs": [],
      "source": [
        "import gradio as gr"
      ]
    },
    {
      "cell_type": "markdown",
      "metadata": {
        "id": "kv0zawZCzbQ0"
      },
      "source": [
        "### a) Um programador Jr precisa criar um algoritmo para um projeto de calculadora da sua empresa.Inicialmente, ele precisa criar o algoritmo para conseguir somar dois valores que o usuário digite. Ajude o programador Jr a criar esse algoritmo que receba dois valores digitados pelo usuário, faça a soma dos dois, e exiba o valor resultante."
      ]
    },
    {
      "cell_type": "code",
      "execution_count": null,
      "metadata": {
        "colab": {
          "base_uri": "https://localhost:8080/",
          "height": 646
        },
        "id": "TKpwsB4YzaID",
        "outputId": "6e050bef-3d53-4a6b-802c-a458aa710832"
      },
      "outputs": [
        {
          "output_type": "stream",
          "name": "stdout",
          "text": [
            "Setting queue=True in a Colab notebook requires sharing enabled. Setting `share=True` (you can turn this off by setting `share=False` in `launch()` explicitly).\n",
            "\n",
            "Colab notebook detected. To show errors in colab notebook, set debug=True in launch()\n",
            "Running on public URL: https://d4a4e2221675a5d989.gradio.live\n",
            "\n",
            "This share link expires in 72 hours. For free permanent hosting and GPU upgrades, run `gradio deploy` from Terminal to deploy to Spaces (https://huggingface.co/spaces)\n"
          ]
        },
        {
          "output_type": "display_data",
          "data": {
            "text/plain": [
              "<IPython.core.display.HTML object>"
            ],
            "text/html": [
              "<div><iframe src=\"https://d4a4e2221675a5d989.gradio.live\" width=\"100%\" height=\"500\" allow=\"autoplay; camera; microphone; clipboard-read; clipboard-write;\" frameborder=\"0\" allowfullscreen></iframe></div>"
            ]
          },
          "metadata": {}
        },
        {
          "output_type": "execute_result",
          "data": {
            "text/plain": []
          },
          "metadata": {},
          "execution_count": 6
        }
      ],
      "source": [
        "def somar(valor1, valor2):\n",
        "    soma = int(valor1) + int(valor2)\n",
        "    return soma\n",
        "\n",
        "demo = gr.Interface(fn=somar, inputs=[\"text\", \"text\"], outputs=\"text\")\n",
        "demo.launch()"
      ]
    },
    {
      "cell_type": "markdown",
      "metadata": {
        "id": "9AuDbzsJzrCV"
      },
      "source": [
        "### b) Um programador Jr precisa criar um algoritmo que verifique o nome que o usuário digitar. Esse algoritmo deve ter o seguinte padrão: Se o nome digitado pelo usuário for Pedro, o algoritmo deve exibir a mensagem “Bem vindo Pedro!”.  nome digitado não seja Pedro, a mensagem exibida deve ser “Bom vindo Meigarom”. Ajude o programador a criar esse algoritmo.\n"
      ]
    },
    {
      "cell_type": "code",
      "execution_count": null,
      "metadata": {
        "id": "AFWDFtrP0D84",
        "colab": {
          "base_uri": "https://localhost:8080/",
          "height": 646
        },
        "outputId": "2a0b4a55-ae9e-4262-97cd-3b380d420b17"
      },
      "outputs": [
        {
          "output_type": "stream",
          "name": "stdout",
          "text": [
            "Setting queue=True in a Colab notebook requires sharing enabled. Setting `share=True` (you can turn this off by setting `share=False` in `launch()` explicitly).\n",
            "\n",
            "Colab notebook detected. To show errors in colab notebook, set debug=True in launch()\n",
            "Running on public URL: https://1a82c4e5a429fa8494.gradio.live\n",
            "\n",
            "This share link expires in 72 hours. For free permanent hosting and GPU upgrades, run `gradio deploy` from Terminal to deploy to Spaces (https://huggingface.co/spaces)\n"
          ]
        },
        {
          "output_type": "display_data",
          "data": {
            "text/plain": [
              "<IPython.core.display.HTML object>"
            ],
            "text/html": [
              "<div><iframe src=\"https://1a82c4e5a429fa8494.gradio.live\" width=\"100%\" height=\"500\" allow=\"autoplay; camera; microphone; clipboard-read; clipboard-write;\" frameborder=\"0\" allowfullscreen></iframe></div>"
            ]
          },
          "metadata": {}
        },
        {
          "output_type": "execute_result",
          "data": {
            "text/plain": []
          },
          "metadata": {},
          "execution_count": 7
        }
      ],
      "source": [
        "def quem_fala (nome):\n",
        "    if nome == \"Pedro\":\n",
        "      nome = \"Bem vindo Pedro\"\n",
        "    else:\n",
        "      nome = \"Bem vindo Meigarom\"\n",
        "    return nome\n",
        "\n",
        "demo = gr.Interface(fn=quem_fala, inputs=[\"text\"], outputs=\"text\")\n",
        "demo.launch()"
      ]
    },
    {
      "cell_type": "markdown",
      "metadata": {
        "id": "MURIvYu60Ep_"
      },
      "source": [
        "### c) Um programador Jr precisa criar uma calculadora especial, que possibilite somar 3 número. Essa calculadora deverá receber 3 números digitados pelo usuário, realizar a soma desses 3 números e exibir o resultado dessa soma.\n"
      ]
    },
    {
      "cell_type": "code",
      "execution_count": null,
      "metadata": {
        "id": "Mcy9aynd0LVM",
        "colab": {
          "base_uri": "https://localhost:8080/",
          "height": 646
        },
        "outputId": "c01e81d1-2845-46ea-d97f-e17193a5c381"
      },
      "outputs": [
        {
          "output_type": "stream",
          "name": "stdout",
          "text": [
            "Setting queue=True in a Colab notebook requires sharing enabled. Setting `share=True` (you can turn this off by setting `share=False` in `launch()` explicitly).\n",
            "\n",
            "Colab notebook detected. To show errors in colab notebook, set debug=True in launch()\n",
            "Running on public URL: https://b653bb61e7d1fee901.gradio.live\n",
            "\n",
            "This share link expires in 72 hours. For free permanent hosting and GPU upgrades, run `gradio deploy` from Terminal to deploy to Spaces (https://huggingface.co/spaces)\n"
          ]
        },
        {
          "output_type": "display_data",
          "data": {
            "text/plain": [
              "<IPython.core.display.HTML object>"
            ],
            "text/html": [
              "<div><iframe src=\"https://b653bb61e7d1fee901.gradio.live\" width=\"100%\" height=\"500\" allow=\"autoplay; camera; microphone; clipboard-read; clipboard-write;\" frameborder=\"0\" allowfullscreen></iframe></div>"
            ]
          },
          "metadata": {}
        },
        {
          "output_type": "execute_result",
          "data": {
            "text/plain": []
          },
          "metadata": {},
          "execution_count": 18
        }
      ],
      "source": [
        "def soma_3(*args):\n",
        "    valor = 0\n",
        "    for i in range(3):  # Corrigido para 'range(3)' para iterar 3 vezes\n",
        "        valor += args[i]  # Somando os valores passados como argumentos\n",
        "    return valor\n",
        "\n",
        "with gr.Blocks() as demo:\n",
        "    with gr.Row():\n",
        "        # Corrigido para capturar os inputs e exibir a soma\n",
        "        inputs = [gr.Number(label=f\"Informe o {i+1}º número\") for i in range(3)]\n",
        "        output = gr.Textbox(label=\"Resultado\")\n",
        "        gr.Button(\"Somar\").click(soma_3, inputs, output)\n",
        "\n",
        "demo.launch()\n"
      ]
    },
    {
      "cell_type": "markdown",
      "metadata": {
        "id": "xenv-uMh0Ol0"
      },
      "source": [
        "### d) Um Cientista de Dados Jr precisa criar uma algoritmo que seja capaz de calcular a média aritmética dos valores digitados pelo usuário. Nesse primeiro momento, o usuário será capaz de digitar somente dois valores. Por tanto, o algoritmo deve ser capaz de calcular a média aritmética dos dois valores digitados pelo usuário."
      ]
    },
    {
      "cell_type": "code",
      "execution_count": 12,
      "metadata": {
        "id": "9tSoG6wY0Ua9",
        "colab": {
          "base_uri": "https://localhost:8080/",
          "height": 646
        },
        "outputId": "99f04c01-98d8-435f-b577-c8d9459211aa"
      },
      "outputs": [
        {
          "output_type": "stream",
          "name": "stdout",
          "text": [
            "Setting queue=True in a Colab notebook requires sharing enabled. Setting `share=True` (you can turn this off by setting `share=False` in `launch()` explicitly).\n",
            "\n",
            "Colab notebook detected. To show errors in colab notebook, set debug=True in launch()\n",
            "Running on public URL: https://95b3dde821da7b440c.gradio.live\n",
            "\n",
            "This share link expires in 72 hours. For free permanent hosting and GPU upgrades, run `gradio deploy` from Terminal to deploy to Spaces (https://huggingface.co/spaces)\n"
          ]
        },
        {
          "output_type": "display_data",
          "data": {
            "text/plain": [
              "<IPython.core.display.HTML object>"
            ],
            "text/html": [
              "<div><iframe src=\"https://95b3dde821da7b440c.gradio.live\" width=\"100%\" height=\"500\" allow=\"autoplay; camera; microphone; clipboard-read; clipboard-write;\" frameborder=\"0\" allowfullscreen></iframe></div>"
            ]
          },
          "metadata": {}
        },
        {
          "output_type": "execute_result",
          "data": {
            "text/plain": []
          },
          "metadata": {},
          "execution_count": 12
        }
      ],
      "source": [
        "def media_aritmetica (*args):\n",
        "    valor = 0\n",
        "    for i in range(2):  # Corrigido para 'range(2)' para iterar 2 vezes\n",
        "        valor += args[i]  # Somando os valores passados como argumentos\n",
        "    divisao = int(valor)/int(i + 1)  # Fazendo a divisao da média\n",
        "    return divisao\n",
        "\n",
        "with gr.Blocks() as demo:\n",
        "    with gr.Row():\n",
        "        # Corrigido para capturar os inputs e exibir a soma\n",
        "        inputs = [gr.Number(label=f\"Informe o {i+1}º número\") for i in range(2)]\n",
        "        output = gr.Textbox(label=\"Resultado\")\n",
        "        gr.Button(\"Média\").click(media_aritmetica, inputs, output)\n",
        "\n",
        "demo.launch()"
      ]
    },
    {
      "cell_type": "markdown",
      "metadata": {
        "id": "RizyMMm00U_N"
      },
      "source": [
        "### e) Um Cientista de Dados Jr precisa criar uma algoritmo que seja capaz de calcular a média aritmética dos valores digitados pelo usuário. Agora, o usuário é capaz de digitar três valores. Por tanto, o algoritmo deve ser capaz de calcular a média aritmética dos três valores digitados pelo usuário."
      ]
    },
    {
      "cell_type": "code",
      "execution_count": 13,
      "metadata": {
        "id": "YebHdRUc0cuc",
        "colab": {
          "base_uri": "https://localhost:8080/",
          "height": 646
        },
        "outputId": "22eaeedc-4ce9-4726-a29f-25e34adc95b4"
      },
      "outputs": [
        {
          "output_type": "stream",
          "name": "stdout",
          "text": [
            "Setting queue=True in a Colab notebook requires sharing enabled. Setting `share=True` (you can turn this off by setting `share=False` in `launch()` explicitly).\n",
            "\n",
            "Colab notebook detected. To show errors in colab notebook, set debug=True in launch()\n",
            "Running on public URL: https://d25904b565c9e9ec0c.gradio.live\n",
            "\n",
            "This share link expires in 72 hours. For free permanent hosting and GPU upgrades, run `gradio deploy` from Terminal to deploy to Spaces (https://huggingface.co/spaces)\n"
          ]
        },
        {
          "output_type": "display_data",
          "data": {
            "text/plain": [
              "<IPython.core.display.HTML object>"
            ],
            "text/html": [
              "<div><iframe src=\"https://d25904b565c9e9ec0c.gradio.live\" width=\"100%\" height=\"500\" allow=\"autoplay; camera; microphone; clipboard-read; clipboard-write;\" frameborder=\"0\" allowfullscreen></iframe></div>"
            ]
          },
          "metadata": {}
        },
        {
          "output_type": "execute_result",
          "data": {
            "text/plain": []
          },
          "metadata": {},
          "execution_count": 13
        }
      ],
      "source": [
        "def media_aritmetica (*args):\n",
        "    valor = 0\n",
        "    for i in range(3):  # Corrigido para 'range(3)' para iterar 3 vezes\n",
        "        valor += args[i]  # Somando os valores passados como argumentos\n",
        "    divisao = int(valor)/int(i + 1)  # Fazendo a divisao da média\n",
        "    return divisao\n",
        "\n",
        "with gr.Blocks() as demo:\n",
        "    with gr.Row():\n",
        "        # Corrigido para capturar os inputs e exibir a soma\n",
        "        inputs = [gr.Number(label=f\"Informe o {i+1}º número\") for i in range(3)]\n",
        "        output = gr.Textbox(label=\"Resultado\")\n",
        "        gr.Button(\"Média\").click(media_aritmetica, inputs, output)\n",
        "\n",
        "demo.launch()"
      ]
    },
    {
      "cell_type": "markdown",
      "metadata": {
        "id": "ozFqN5Gh0dbM"
      },
      "source": [
        "### f) Um programador Jr recebeu um desafio do seu chefe: Criar um algoritmo que seja capaz de receber a idade do usuário, e informar na tela se esse usuário é maior de idade ou não. Ajude o programado a criar um algoritmo que receba a idade do usuário e verifique se ele é maior de idade ou não. Se o usuário for maior de idade, o algoritmo deve apresentar a mensagem \"Maior de idade”. Caso contrário, o algoritmo deve apresentar a mensagem \"Não é maior de idade” ."
      ]
    },
    {
      "cell_type": "code",
      "execution_count": 18,
      "metadata": {
        "id": "PNAuwv3P0slM",
        "colab": {
          "base_uri": "https://localhost:8080/",
          "height": 646
        },
        "outputId": "2032309f-9e14-44a8-f537-a31535d25c14"
      },
      "outputs": [
        {
          "output_type": "stream",
          "name": "stdout",
          "text": [
            "Setting queue=True in a Colab notebook requires sharing enabled. Setting `share=True` (you can turn this off by setting `share=False` in `launch()` explicitly).\n",
            "\n",
            "Colab notebook detected. To show errors in colab notebook, set debug=True in launch()\n",
            "Running on public URL: https://e79e5f87b28624d2e7.gradio.live\n",
            "\n",
            "This share link expires in 72 hours. For free permanent hosting and GPU upgrades, run `gradio deploy` from Terminal to deploy to Spaces (https://huggingface.co/spaces)\n"
          ]
        },
        {
          "output_type": "display_data",
          "data": {
            "text/plain": [
              "<IPython.core.display.HTML object>"
            ],
            "text/html": [
              "<div><iframe src=\"https://e79e5f87b28624d2e7.gradio.live\" width=\"100%\" height=\"500\" allow=\"autoplay; camera; microphone; clipboard-read; clipboard-write;\" frameborder=\"0\" allowfullscreen></iframe></div>"
            ]
          },
          "metadata": {}
        },
        {
          "output_type": "execute_result",
          "data": {
            "text/plain": []
          },
          "metadata": {},
          "execution_count": 18
        }
      ],
      "source": [
        "def maior_idade (idade):\n",
        "    if int(idade) >= 18:\n",
        "      maior = \"Maior de Idade\"\n",
        "    else:\n",
        "      maior = \"Não é maior de idade\"\n",
        "    return maior\n",
        "\n",
        "demo = gr.Interface(fn=maior_idade, inputs= gr.Text(label=\"Informe sua idade\"), outputs=\"text\")\n",
        "demo.launch()"
      ]
    },
    {
      "cell_type": "markdown",
      "metadata": {
        "id": "JbyEt9tE0tCA"
      },
      "source": [
        "#### h) Um programador Jr recebeu a tarefa de criar um algoritmo que faz ordenação de valores. Ele definiu que iria iniciar com a construção do algoritmo que fará verificação de qual número é maior entre dois números. Ajude o programador a criar um algoritmo que receba dois números e verifique qual deles é maior. O algoritmo deve exibir o maior valor dentro os dois números digitados."
      ]
    },
    {
      "cell_type": "code",
      "execution_count": 22,
      "metadata": {
        "id": "QdEj2u6S01ak",
        "colab": {
          "base_uri": "https://localhost:8080/",
          "height": 646
        },
        "outputId": "c06d69fe-c19b-4aeb-972d-45e36265a886"
      },
      "outputs": [
        {
          "output_type": "stream",
          "name": "stdout",
          "text": [
            "Setting queue=True in a Colab notebook requires sharing enabled. Setting `share=True` (you can turn this off by setting `share=False` in `launch()` explicitly).\n",
            "\n",
            "Colab notebook detected. To show errors in colab notebook, set debug=True in launch()\n",
            "Running on public URL: https://4860f40dd7a7d62a82.gradio.live\n",
            "\n",
            "This share link expires in 72 hours. For free permanent hosting and GPU upgrades, run `gradio deploy` from Terminal to deploy to Spaces (https://huggingface.co/spaces)\n"
          ]
        },
        {
          "output_type": "display_data",
          "data": {
            "text/plain": [
              "<IPython.core.display.HTML object>"
            ],
            "text/html": [
              "<div><iframe src=\"https://4860f40dd7a7d62a82.gradio.live\" width=\"100%\" height=\"500\" allow=\"autoplay; camera; microphone; clipboard-read; clipboard-write;\" frameborder=\"0\" allowfullscreen></iframe></div>"
            ]
          },
          "metadata": {}
        },
        {
          "output_type": "execute_result",
          "data": {
            "text/plain": []
          },
          "metadata": {},
          "execution_count": 22
        }
      ],
      "source": [
        "def Maior_valor (input1, input2):\n",
        "    valor = []\n",
        "    valor.append(input1)\n",
        "    valor.append(input2)\n",
        "    maior = max(valor)\n",
        "    return maior\n",
        "\n",
        "with gr.Blocks() as demo:\n",
        "    with gr.Row():\n",
        "        inputs1 = gr.Number(label=\"Informe o 1º número\")\n",
        "        inputs2 = gr.Number(label =\" Informe o 2º número\")\n",
        "        output = gr.Textbox(label=\"Resultado\")\n",
        "        gr.Button(\"Qual maior valor?\").click(fn=Maior_valor,inputs=[inputs1,inputs2],outputs= output)\n",
        "\n",
        "demo.launch()"
      ]
    },
    {
      "cell_type": "markdown",
      "metadata": {
        "id": "yVvsZenI030s"
      },
      "source": [
        "### i) Agora que o programador Jr já consegue fazer a comparação entre dois valores, ele definiu que irá criar um algoritmo para verificar qual o maior valor para três valores digitados pelo usuário. Ajude o programador a desenvolver um algoritmo que receba três valores digitados pelo usuário e verifique qual deles é o maior valor. O algoritmo deve exibir o maior valor encontrado entre os três valores digitados."
      ]
    },
    {
      "cell_type": "code",
      "execution_count": 23,
      "metadata": {
        "id": "LIKW6VvM0_HE",
        "colab": {
          "base_uri": "https://localhost:8080/",
          "height": 646
        },
        "outputId": "ab4802b0-ec67-4bd5-937f-2a43412a3fa0"
      },
      "outputs": [
        {
          "output_type": "stream",
          "name": "stdout",
          "text": [
            "Setting queue=True in a Colab notebook requires sharing enabled. Setting `share=True` (you can turn this off by setting `share=False` in `launch()` explicitly).\n",
            "\n",
            "Colab notebook detected. To show errors in colab notebook, set debug=True in launch()\n",
            "Running on public URL: https://ab50e9126696458b0e.gradio.live\n",
            "\n",
            "This share link expires in 72 hours. For free permanent hosting and GPU upgrades, run `gradio deploy` from Terminal to deploy to Spaces (https://huggingface.co/spaces)\n"
          ]
        },
        {
          "output_type": "display_data",
          "data": {
            "text/plain": [
              "<IPython.core.display.HTML object>"
            ],
            "text/html": [
              "<div><iframe src=\"https://ab50e9126696458b0e.gradio.live\" width=\"100%\" height=\"500\" allow=\"autoplay; camera; microphone; clipboard-read; clipboard-write;\" frameborder=\"0\" allowfullscreen></iframe></div>"
            ]
          },
          "metadata": {}
        },
        {
          "output_type": "execute_result",
          "data": {
            "text/plain": []
          },
          "metadata": {},
          "execution_count": 23
        }
      ],
      "source": [
        "def Maior_valor (input1, input2, input3):\n",
        "    valor = []\n",
        "    valor.append(input1)\n",
        "    valor.append(input2)\n",
        "    valor.append(input3)\n",
        "    maior = max(valor)\n",
        "    return maior\n",
        "\n",
        "with gr.Blocks() as demo:\n",
        "    with gr.Row():\n",
        "        input1 = gr.Number(label=\"Informe o 1º número\")\n",
        "        input2 = gr.Number(label =\"Informe o 2º número\")\n",
        "        input3 = gr.Number(label =\"Informe o 3º número\")\n",
        "        output = gr.Textbox(label=\"Resultado\")\n",
        "        gr.Button(\"Qual maior valor?\").click(fn=Maior_valor,inputs=[input1,input2,input3],outputs= output)\n",
        "\n",
        "demo.launch()"
      ]
    },
    {
      "cell_type": "markdown",
      "metadata": {
        "id": "crXqt1fb1B4M"
      },
      "source": [
        "### j) Um programador Jr precisa construir uma mini calculadora. Esse calculadora segue os seguintes padrões: Se o usuário digital um valor menor do que 10, a calculadora vai multiplicar esse valor por 100 e retornar o valor resultantes para o usuário. Por outro lado, se o usuário digitar um número maior ou igual a 10, a calculadora soma 10 ao número digitado pelo usuário. Ajude o programador Jr a construir essa calculadora, fornecendo o diagrama de blocos para ele.\n"
      ]
    },
    {
      "cell_type": "code",
      "execution_count": 26,
      "metadata": {
        "id": "G_vTVUYA1Kx_",
        "colab": {
          "base_uri": "https://localhost:8080/",
          "height": 646
        },
        "outputId": "77ae6758-7111-465a-951d-472b68f74710"
      },
      "outputs": [
        {
          "output_type": "stream",
          "name": "stdout",
          "text": [
            "Setting queue=True in a Colab notebook requires sharing enabled. Setting `share=True` (you can turn this off by setting `share=False` in `launch()` explicitly).\n",
            "\n",
            "Colab notebook detected. To show errors in colab notebook, set debug=True in launch()\n",
            "Running on public URL: https://3d4a218b3dd5e91216.gradio.live\n",
            "\n",
            "This share link expires in 72 hours. For free permanent hosting and GPU upgrades, run `gradio deploy` from Terminal to deploy to Spaces (https://huggingface.co/spaces)\n"
          ]
        },
        {
          "output_type": "display_data",
          "data": {
            "text/plain": [
              "<IPython.core.display.HTML object>"
            ],
            "text/html": [
              "<div><iframe src=\"https://3d4a218b3dd5e91216.gradio.live\" width=\"100%\" height=\"500\" allow=\"autoplay; camera; microphone; clipboard-read; clipboard-write;\" frameborder=\"0\" allowfullscreen></iframe></div>"
            ]
          },
          "metadata": {}
        },
        {
          "output_type": "execute_result",
          "data": {
            "text/plain": []
          },
          "metadata": {},
          "execution_count": 26
        }
      ],
      "source": [
        "def calculadora (numero):\n",
        "    if int(numero) < 10:\n",
        "      maior = int(numero) * 100\n",
        "    else:\n",
        "      maior = int(numero) + 10\n",
        "    return maior\n",
        "\n",
        "demo = gr.Interface(fn=calculadora, inputs= gr.Text(label=\"Informe um número\"), outputs=\"text\")\n",
        "demo.launch()"
      ]
    }
  ],
  "metadata": {
    "colab": {
      "provenance": []
    },
    "kernelspec": {
      "display_name": "Python 3",
      "name": "python3"
    },
    "language_info": {
      "name": "python"
    }
  },
  "nbformat": 4,
  "nbformat_minor": 0
}