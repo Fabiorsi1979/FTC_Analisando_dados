{
  "nbformat": 4,
  "nbformat_minor": 0,
  "metadata": {
    "colab": {
      "provenance": [],
      "authorship_tag": "ABX9TyMsUpukEcl5sSkm2fyD/7x5",
      "include_colab_link": true
    },
    "kernelspec": {
      "name": "python3",
      "display_name": "Python 3"
    },
    "language_info": {
      "name": "python"
    }
  },
  "cells": [
    {
      "cell_type": "markdown",
      "metadata": {
        "id": "view-in-github",
        "colab_type": "text"
      },
      "source": [
        "<a href=\"https://colab.research.google.com/github/Fabiorsi1979/FTC_Analisando_dados/blob/main/Problema_de_negocio_fundProgramacao.ipynb\" target=\"_parent\"><img src=\"https://colab.research.google.com/assets/colab-badge.svg\" alt=\"Open In Colab\"/></a>"
      ]
    },
    {
      "cell_type": "markdown",
      "source": [
        "# Problema de Negócio\n",
        "### Fundamentos da Programação\n",
        "\n",
        "###### os descontos são progressivos, começando de 10% no primeiro dia, até 70% de desconto base, no último dia. A progressão do desconto, depende do número de pedidos previstos diariamente. O time de Marketing definiu a regra de negócio dos descontos:\n",
        "##### No dia 1, o desconto é de 10% em qualquer hamburger, se tiverem até 1000 pedidos. A cada pedido a mais, a partir do 1000, o desconto aumenta em 1%.\n",
        "##### Por exemplo, se no dia 1 a previsão for de 500 pedidos, o desconto será de 10%, caso a previsão seja de 1100 pedidos, o desconto será de 11%  \n",
        "##### No dia 2, o desconto é de 20% se estiverem presentes até 2000 pedidos esperados e a cada 100 pedidos a mais, o desconto aumenta em 1%"
      ],
      "metadata": {
        "id": "huYdRgVvheND"
      }
    },
    {
      "cell_type": "markdown",
      "source": [
        "##### A previsão diária de pedidos foi feita pelo time de Cientistas de Dados está abaixo:\n",
        "                    Dia:   1  |  2  |  3   |  4   |  5   |  6   |  7   |  \n",
        "    Previsão de pedidos:  400 | 100 | 3650 | 4010 | 4900 | 7650 | 9500 |\n",
        "\n",
        "##### O seu objetivo como Cientista de Dados é fornecer o valor do desconto diário para o Head de Marketing, segundo as previsões e as regras do desconto progressivo."
      ],
      "metadata": {
        "id": "JIjrpaHPgdpE"
      }
    },
    {
      "cell_type": "code",
      "source": [
        "pedido = [400, 100, 3650, 4010, 4900, 7650, 9500]\n",
        "\n",
        "def dia(hoje, pedido):\n",
        "    # Verifica se o dia está no intervalo válido\n",
        "    if hoje < 1 or hoje > 7:\n",
        "        return \"Dia inválido. Informe um dia entre 1 e 7.\"\n",
        "\n",
        "    # Calcula o desconto\n",
        "    desconto = (hoje * 10 + max((pedido[hoje-1] - hoje * 1000) // 100, 0))/100\n",
        "    return desconto\n",
        "\n",
        "try:\n",
        "    hoje = int(input(\"Informe o dia: entre 1 e 7 \"))\n",
        "\n",
        "    # Chama a função e exibe o resultado\n",
        "    resultado = dia(hoje, pedido)\n",
        "    print(resultado)\n",
        "\n",
        "except ValueError:\n",
        "    print(\"Entrada inválida. Por favor, insira um número inteiro.\")\n",
        "\n",
        "except Exception as e:\n",
        "    print(f\"Ocorreu um erro inesperado: {e}\")"
      ],
      "metadata": {
        "colab": {
          "base_uri": "https://localhost:8080/"
        },
        "id": "rtklD_hlhrNR",
        "outputId": "ba8fd795-bf17-4063-e9c6-215a804c9b88"
      },
      "execution_count": null,
      "outputs": [
        {
          "output_type": "stream",
          "name": "stdout",
          "text": [
            "Informe o dia: entre 1 e 7 -15\n",
            "Dia inválido. Informe um dia entre 1 e 7.\n"
          ]
        }
      ]
    },
    {
      "cell_type": "markdown",
      "source": [
        "##### Criar um \"FOR\" que percorra todos os dias e já informe o valor para caalculado para cada dia."
      ],
      "metadata": {
        "id": "mhDC5zfiRGEo"
      }
    },
    {
      "cell_type": "code",
      "source": [
        "pedido = [400, 100, 3650, 4010, 4900, 7650, 9500]\n",
        "resposta = []\n",
        "for hoje in range(1,8):\n",
        "  desconto = (hoje * 10 + max((pedido[hoje-1] - hoje * 1000) // 100, 0))/100\n",
        "  print(f'Para o {hoje}º dia o desconto será de {desconto*100:.0f}%')\n",
        "  resposta.append(desconto)\n",
        "  print(resposta[hoje-1])\n",
        "\n",
        "resposta\n"
      ],
      "metadata": {
        "colab": {
          "base_uri": "https://localhost:8080/"
        },
        "id": "u8aqVBaoQ6Bn",
        "outputId": "c689728f-e07c-4cda-999b-f6a0369167b5"
      },
      "execution_count": 8,
      "outputs": [
        {
          "output_type": "stream",
          "name": "stdout",
          "text": [
            "Para o 1º dia o desconto será de 10%\n",
            "0.1\n",
            "Para o 2º dia o desconto será de 20%\n",
            "0.2\n",
            "Para o 3º dia o desconto será de 36%\n",
            "0.36\n",
            "Para o 4º dia o desconto será de 40%\n",
            "0.4\n",
            "Para o 5º dia o desconto será de 50%\n",
            "0.5\n",
            "Para o 6º dia o desconto será de 76%\n",
            "0.76\n",
            "Para o 7º dia o desconto será de 95%\n",
            "0.95\n"
          ]
        },
        {
          "output_type": "execute_result",
          "data": {
            "text/plain": [
              "[0.1, 0.2, 0.36, 0.4, 0.5, 0.76, 0.95]"
            ]
          },
          "metadata": {},
          "execution_count": 8
        }
      ]
    },
    {
      "cell_type": "code",
      "source": [],
      "metadata": {
        "id": "eT2shVjBVRzP"
      },
      "execution_count": null,
      "outputs": []
    }
  ]
}