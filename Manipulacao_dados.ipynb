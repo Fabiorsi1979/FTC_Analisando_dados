{
  "cells": [
    {
      "cell_type": "markdown",
      "metadata": {
        "id": "view-in-github",
        "colab_type": "text"
      },
      "source": [
        "<a href=\"https://colab.research.google.com/github/Fabiorsi1979/FTC_Analisando_dados/blob/main/Manipulacao_dados.ipynb\" target=\"_parent\"><img src=\"https://colab.research.google.com/assets/colab-badge.svg\" alt=\"Open In Colab\"/></a>"
      ]
    },
    {
      "cell_type": "markdown",
      "source": [
        "# Exercícios Manipulação Dados"
      ],
      "metadata": {
        "id": "gtGpy1tV6RsY"
      }
    },
    {
      "cell_type": "code",
      "source": [
        "import pandas as pd\n",
        "import re\n",
        "from google.colab import drive"
      ],
      "metadata": {
        "id": "NFJttiypriLK"
      },
      "execution_count": 1,
      "outputs": []
    },
    {
      "cell_type": "code",
      "source": [
        "drive.mount('/content/drive')"
      ],
      "metadata": {
        "colab": {
          "base_uri": "https://localhost:8080/"
        },
        "id": "KsXpKT3_raJP",
        "outputId": "c31e96e0-2b24-439f-db0b-8115e3e9baeb"
      },
      "execution_count": 2,
      "outputs": [
        {
          "output_type": "stream",
          "name": "stdout",
          "text": [
            "Mounted at /content/drive\n"
          ]
        }
      ]
    },
    {
      "cell_type": "code",
      "source": [
        "path = '/content/drive/MyDrive/train.csv'\n",
        "\n",
        "df_raw = pd.read_csv(path)\n",
        "df_raw.head()"
      ],
      "metadata": {
        "colab": {
          "base_uri": "https://localhost:8080/",
          "height": 244
        },
        "id": "VMITrQAsrar2",
        "outputId": "2f120625-7ccd-4208-b2f3-86c2dd74a129"
      },
      "execution_count": 3,
      "outputs": [
        {
          "output_type": "execute_result",
          "data": {
            "text/plain": [
              "        ID Delivery_person_ID Delivery_person_Age Delivery_person_Ratings  \\\n",
              "0  0x4607     INDORES13DEL02                   37                     4.9   \n",
              "1  0xb379     BANGRES18DEL02                   34                     4.5   \n",
              "2  0x5d6d     BANGRES19DEL01                   23                     4.4   \n",
              "3  0x7a6a    COIMBRES13DEL02                   38                     4.7   \n",
              "4  0x70a2     CHENRES12DEL01                   32                     4.6   \n",
              "\n",
              "   Restaurant_latitude  Restaurant_longitude  Delivery_location_latitude  \\\n",
              "0            22.745049             75.892471                   22.765049   \n",
              "1            12.913041             77.683237                   13.043041   \n",
              "2            12.914264             77.678400                   12.924264   \n",
              "3            11.003669             76.976494                   11.053669   \n",
              "4            12.972793             80.249982                   13.012793   \n",
              "\n",
              "   Delivery_location_longitude  Order_Date Time_Orderd Time_Order_picked  \\\n",
              "0                    75.912471  19-03-2022    11:30:00          11:45:00   \n",
              "1                    77.813237  25-03-2022    19:45:00          19:50:00   \n",
              "2                    77.688400  19-03-2022    08:30:00          08:45:00   \n",
              "3                    77.026494  05-04-2022    18:00:00          18:10:00   \n",
              "4                    80.289982  26-03-2022    13:30:00          13:45:00   \n",
              "\n",
              "       Weatherconditions Road_traffic_density  Vehicle_condition  \\\n",
              "0       conditions Sunny                High                   2   \n",
              "1      conditions Stormy                 Jam                   2   \n",
              "2  conditions Sandstorms                 Low                   0   \n",
              "3       conditions Sunny              Medium                   0   \n",
              "4      conditions Cloudy                High                   1   \n",
              "\n",
              "  Type_of_order Type_of_vehicle multiple_deliveries Festival            City  \\\n",
              "0        Snack      motorcycle                    0      No           Urban    \n",
              "1        Snack         scooter                    1      No   Metropolitian    \n",
              "2       Drinks      motorcycle                    1      No           Urban    \n",
              "3       Buffet      motorcycle                    1      No   Metropolitian    \n",
              "4        Snack         scooter                    1      No   Metropolitian    \n",
              "\n",
              "  Time_taken(min)  \n",
              "0        (min) 24  \n",
              "1        (min) 33  \n",
              "2        (min) 26  \n",
              "3        (min) 21  \n",
              "4        (min) 30  "
            ],
            "text/html": [
              "\n",
              "  <div id=\"df-78ffebab-3668-4e82-86b5-25d80ab4378e\" class=\"colab-df-container\">\n",
              "    <div>\n",
              "<style scoped>\n",
              "    .dataframe tbody tr th:only-of-type {\n",
              "        vertical-align: middle;\n",
              "    }\n",
              "\n",
              "    .dataframe tbody tr th {\n",
              "        vertical-align: top;\n",
              "    }\n",
              "\n",
              "    .dataframe thead th {\n",
              "        text-align: right;\n",
              "    }\n",
              "</style>\n",
              "<table border=\"1\" class=\"dataframe\">\n",
              "  <thead>\n",
              "    <tr style=\"text-align: right;\">\n",
              "      <th></th>\n",
              "      <th>ID</th>\n",
              "      <th>Delivery_person_ID</th>\n",
              "      <th>Delivery_person_Age</th>\n",
              "      <th>Delivery_person_Ratings</th>\n",
              "      <th>Restaurant_latitude</th>\n",
              "      <th>Restaurant_longitude</th>\n",
              "      <th>Delivery_location_latitude</th>\n",
              "      <th>Delivery_location_longitude</th>\n",
              "      <th>Order_Date</th>\n",
              "      <th>Time_Orderd</th>\n",
              "      <th>Time_Order_picked</th>\n",
              "      <th>Weatherconditions</th>\n",
              "      <th>Road_traffic_density</th>\n",
              "      <th>Vehicle_condition</th>\n",
              "      <th>Type_of_order</th>\n",
              "      <th>Type_of_vehicle</th>\n",
              "      <th>multiple_deliveries</th>\n",
              "      <th>Festival</th>\n",
              "      <th>City</th>\n",
              "      <th>Time_taken(min)</th>\n",
              "    </tr>\n",
              "  </thead>\n",
              "  <tbody>\n",
              "    <tr>\n",
              "      <th>0</th>\n",
              "      <td>0x4607</td>\n",
              "      <td>INDORES13DEL02</td>\n",
              "      <td>37</td>\n",
              "      <td>4.9</td>\n",
              "      <td>22.745049</td>\n",
              "      <td>75.892471</td>\n",
              "      <td>22.765049</td>\n",
              "      <td>75.912471</td>\n",
              "      <td>19-03-2022</td>\n",
              "      <td>11:30:00</td>\n",
              "      <td>11:45:00</td>\n",
              "      <td>conditions Sunny</td>\n",
              "      <td>High</td>\n",
              "      <td>2</td>\n",
              "      <td>Snack</td>\n",
              "      <td>motorcycle</td>\n",
              "      <td>0</td>\n",
              "      <td>No</td>\n",
              "      <td>Urban</td>\n",
              "      <td>(min) 24</td>\n",
              "    </tr>\n",
              "    <tr>\n",
              "      <th>1</th>\n",
              "      <td>0xb379</td>\n",
              "      <td>BANGRES18DEL02</td>\n",
              "      <td>34</td>\n",
              "      <td>4.5</td>\n",
              "      <td>12.913041</td>\n",
              "      <td>77.683237</td>\n",
              "      <td>13.043041</td>\n",
              "      <td>77.813237</td>\n",
              "      <td>25-03-2022</td>\n",
              "      <td>19:45:00</td>\n",
              "      <td>19:50:00</td>\n",
              "      <td>conditions Stormy</td>\n",
              "      <td>Jam</td>\n",
              "      <td>2</td>\n",
              "      <td>Snack</td>\n",
              "      <td>scooter</td>\n",
              "      <td>1</td>\n",
              "      <td>No</td>\n",
              "      <td>Metropolitian</td>\n",
              "      <td>(min) 33</td>\n",
              "    </tr>\n",
              "    <tr>\n",
              "      <th>2</th>\n",
              "      <td>0x5d6d</td>\n",
              "      <td>BANGRES19DEL01</td>\n",
              "      <td>23</td>\n",
              "      <td>4.4</td>\n",
              "      <td>12.914264</td>\n",
              "      <td>77.678400</td>\n",
              "      <td>12.924264</td>\n",
              "      <td>77.688400</td>\n",
              "      <td>19-03-2022</td>\n",
              "      <td>08:30:00</td>\n",
              "      <td>08:45:00</td>\n",
              "      <td>conditions Sandstorms</td>\n",
              "      <td>Low</td>\n",
              "      <td>0</td>\n",
              "      <td>Drinks</td>\n",
              "      <td>motorcycle</td>\n",
              "      <td>1</td>\n",
              "      <td>No</td>\n",
              "      <td>Urban</td>\n",
              "      <td>(min) 26</td>\n",
              "    </tr>\n",
              "    <tr>\n",
              "      <th>3</th>\n",
              "      <td>0x7a6a</td>\n",
              "      <td>COIMBRES13DEL02</td>\n",
              "      <td>38</td>\n",
              "      <td>4.7</td>\n",
              "      <td>11.003669</td>\n",
              "      <td>76.976494</td>\n",
              "      <td>11.053669</td>\n",
              "      <td>77.026494</td>\n",
              "      <td>05-04-2022</td>\n",
              "      <td>18:00:00</td>\n",
              "      <td>18:10:00</td>\n",
              "      <td>conditions Sunny</td>\n",
              "      <td>Medium</td>\n",
              "      <td>0</td>\n",
              "      <td>Buffet</td>\n",
              "      <td>motorcycle</td>\n",
              "      <td>1</td>\n",
              "      <td>No</td>\n",
              "      <td>Metropolitian</td>\n",
              "      <td>(min) 21</td>\n",
              "    </tr>\n",
              "    <tr>\n",
              "      <th>4</th>\n",
              "      <td>0x70a2</td>\n",
              "      <td>CHENRES12DEL01</td>\n",
              "      <td>32</td>\n",
              "      <td>4.6</td>\n",
              "      <td>12.972793</td>\n",
              "      <td>80.249982</td>\n",
              "      <td>13.012793</td>\n",
              "      <td>80.289982</td>\n",
              "      <td>26-03-2022</td>\n",
              "      <td>13:30:00</td>\n",
              "      <td>13:45:00</td>\n",
              "      <td>conditions Cloudy</td>\n",
              "      <td>High</td>\n",
              "      <td>1</td>\n",
              "      <td>Snack</td>\n",
              "      <td>scooter</td>\n",
              "      <td>1</td>\n",
              "      <td>No</td>\n",
              "      <td>Metropolitian</td>\n",
              "      <td>(min) 30</td>\n",
              "    </tr>\n",
              "  </tbody>\n",
              "</table>\n",
              "</div>\n",
              "    <div class=\"colab-df-buttons\">\n",
              "\n",
              "  <div class=\"colab-df-container\">\n",
              "    <button class=\"colab-df-convert\" onclick=\"convertToInteractive('df-78ffebab-3668-4e82-86b5-25d80ab4378e')\"\n",
              "            title=\"Convert this dataframe to an interactive table.\"\n",
              "            style=\"display:none;\">\n",
              "\n",
              "  <svg xmlns=\"http://www.w3.org/2000/svg\" height=\"24px\" viewBox=\"0 -960 960 960\">\n",
              "    <path d=\"M120-120v-720h720v720H120Zm60-500h600v-160H180v160Zm220 220h160v-160H400v160Zm0 220h160v-160H400v160ZM180-400h160v-160H180v160Zm440 0h160v-160H620v160ZM180-180h160v-160H180v160Zm440 0h160v-160H620v160Z\"/>\n",
              "  </svg>\n",
              "    </button>\n",
              "\n",
              "  <style>\n",
              "    .colab-df-container {\n",
              "      display:flex;\n",
              "      gap: 12px;\n",
              "    }\n",
              "\n",
              "    .colab-df-convert {\n",
              "      background-color: #E8F0FE;\n",
              "      border: none;\n",
              "      border-radius: 50%;\n",
              "      cursor: pointer;\n",
              "      display: none;\n",
              "      fill: #1967D2;\n",
              "      height: 32px;\n",
              "      padding: 0 0 0 0;\n",
              "      width: 32px;\n",
              "    }\n",
              "\n",
              "    .colab-df-convert:hover {\n",
              "      background-color: #E2EBFA;\n",
              "      box-shadow: 0px 1px 2px rgba(60, 64, 67, 0.3), 0px 1px 3px 1px rgba(60, 64, 67, 0.15);\n",
              "      fill: #174EA6;\n",
              "    }\n",
              "\n",
              "    .colab-df-buttons div {\n",
              "      margin-bottom: 4px;\n",
              "    }\n",
              "\n",
              "    [theme=dark] .colab-df-convert {\n",
              "      background-color: #3B4455;\n",
              "      fill: #D2E3FC;\n",
              "    }\n",
              "\n",
              "    [theme=dark] .colab-df-convert:hover {\n",
              "      background-color: #434B5C;\n",
              "      box-shadow: 0px 1px 3px 1px rgba(0, 0, 0, 0.15);\n",
              "      filter: drop-shadow(0px 1px 2px rgba(0, 0, 0, 0.3));\n",
              "      fill: #FFFFFF;\n",
              "    }\n",
              "  </style>\n",
              "\n",
              "    <script>\n",
              "      const buttonEl =\n",
              "        document.querySelector('#df-78ffebab-3668-4e82-86b5-25d80ab4378e button.colab-df-convert');\n",
              "      buttonEl.style.display =\n",
              "        google.colab.kernel.accessAllowed ? 'block' : 'none';\n",
              "\n",
              "      async function convertToInteractive(key) {\n",
              "        const element = document.querySelector('#df-78ffebab-3668-4e82-86b5-25d80ab4378e');\n",
              "        const dataTable =\n",
              "          await google.colab.kernel.invokeFunction('convertToInteractive',\n",
              "                                                    [key], {});\n",
              "        if (!dataTable) return;\n",
              "\n",
              "        const docLinkHtml = 'Like what you see? Visit the ' +\n",
              "          '<a target=\"_blank\" href=https://colab.research.google.com/notebooks/data_table.ipynb>data table notebook</a>'\n",
              "          + ' to learn more about interactive tables.';\n",
              "        element.innerHTML = '';\n",
              "        dataTable['output_type'] = 'display_data';\n",
              "        await google.colab.output.renderOutput(dataTable, element);\n",
              "        const docLink = document.createElement('div');\n",
              "        docLink.innerHTML = docLinkHtml;\n",
              "        element.appendChild(docLink);\n",
              "      }\n",
              "    </script>\n",
              "  </div>\n",
              "\n",
              "\n",
              "<div id=\"df-3a1fb133-56cd-489d-9019-021367a0dae9\">\n",
              "  <button class=\"colab-df-quickchart\" onclick=\"quickchart('df-3a1fb133-56cd-489d-9019-021367a0dae9')\"\n",
              "            title=\"Suggest charts\"\n",
              "            style=\"display:none;\">\n",
              "\n",
              "<svg xmlns=\"http://www.w3.org/2000/svg\" height=\"24px\"viewBox=\"0 0 24 24\"\n",
              "     width=\"24px\">\n",
              "    <g>\n",
              "        <path d=\"M19 3H5c-1.1 0-2 .9-2 2v14c0 1.1.9 2 2 2h14c1.1 0 2-.9 2-2V5c0-1.1-.9-2-2-2zM9 17H7v-7h2v7zm4 0h-2V7h2v10zm4 0h-2v-4h2v4z\"/>\n",
              "    </g>\n",
              "</svg>\n",
              "  </button>\n",
              "\n",
              "<style>\n",
              "  .colab-df-quickchart {\n",
              "      --bg-color: #E8F0FE;\n",
              "      --fill-color: #1967D2;\n",
              "      --hover-bg-color: #E2EBFA;\n",
              "      --hover-fill-color: #174EA6;\n",
              "      --disabled-fill-color: #AAA;\n",
              "      --disabled-bg-color: #DDD;\n",
              "  }\n",
              "\n",
              "  [theme=dark] .colab-df-quickchart {\n",
              "      --bg-color: #3B4455;\n",
              "      --fill-color: #D2E3FC;\n",
              "      --hover-bg-color: #434B5C;\n",
              "      --hover-fill-color: #FFFFFF;\n",
              "      --disabled-bg-color: #3B4455;\n",
              "      --disabled-fill-color: #666;\n",
              "  }\n",
              "\n",
              "  .colab-df-quickchart {\n",
              "    background-color: var(--bg-color);\n",
              "    border: none;\n",
              "    border-radius: 50%;\n",
              "    cursor: pointer;\n",
              "    display: none;\n",
              "    fill: var(--fill-color);\n",
              "    height: 32px;\n",
              "    padding: 0;\n",
              "    width: 32px;\n",
              "  }\n",
              "\n",
              "  .colab-df-quickchart:hover {\n",
              "    background-color: var(--hover-bg-color);\n",
              "    box-shadow: 0 1px 2px rgba(60, 64, 67, 0.3), 0 1px 3px 1px rgba(60, 64, 67, 0.15);\n",
              "    fill: var(--button-hover-fill-color);\n",
              "  }\n",
              "\n",
              "  .colab-df-quickchart-complete:disabled,\n",
              "  .colab-df-quickchart-complete:disabled:hover {\n",
              "    background-color: var(--disabled-bg-color);\n",
              "    fill: var(--disabled-fill-color);\n",
              "    box-shadow: none;\n",
              "  }\n",
              "\n",
              "  .colab-df-spinner {\n",
              "    border: 2px solid var(--fill-color);\n",
              "    border-color: transparent;\n",
              "    border-bottom-color: var(--fill-color);\n",
              "    animation:\n",
              "      spin 1s steps(1) infinite;\n",
              "  }\n",
              "\n",
              "  @keyframes spin {\n",
              "    0% {\n",
              "      border-color: transparent;\n",
              "      border-bottom-color: var(--fill-color);\n",
              "      border-left-color: var(--fill-color);\n",
              "    }\n",
              "    20% {\n",
              "      border-color: transparent;\n",
              "      border-left-color: var(--fill-color);\n",
              "      border-top-color: var(--fill-color);\n",
              "    }\n",
              "    30% {\n",
              "      border-color: transparent;\n",
              "      border-left-color: var(--fill-color);\n",
              "      border-top-color: var(--fill-color);\n",
              "      border-right-color: var(--fill-color);\n",
              "    }\n",
              "    40% {\n",
              "      border-color: transparent;\n",
              "      border-right-color: var(--fill-color);\n",
              "      border-top-color: var(--fill-color);\n",
              "    }\n",
              "    60% {\n",
              "      border-color: transparent;\n",
              "      border-right-color: var(--fill-color);\n",
              "    }\n",
              "    80% {\n",
              "      border-color: transparent;\n",
              "      border-right-color: var(--fill-color);\n",
              "      border-bottom-color: var(--fill-color);\n",
              "    }\n",
              "    90% {\n",
              "      border-color: transparent;\n",
              "      border-bottom-color: var(--fill-color);\n",
              "    }\n",
              "  }\n",
              "</style>\n",
              "\n",
              "  <script>\n",
              "    async function quickchart(key) {\n",
              "      const quickchartButtonEl =\n",
              "        document.querySelector('#' + key + ' button');\n",
              "      quickchartButtonEl.disabled = true;  // To prevent multiple clicks.\n",
              "      quickchartButtonEl.classList.add('colab-df-spinner');\n",
              "      try {\n",
              "        const charts = await google.colab.kernel.invokeFunction(\n",
              "            'suggestCharts', [key], {});\n",
              "      } catch (error) {\n",
              "        console.error('Error during call to suggestCharts:', error);\n",
              "      }\n",
              "      quickchartButtonEl.classList.remove('colab-df-spinner');\n",
              "      quickchartButtonEl.classList.add('colab-df-quickchart-complete');\n",
              "    }\n",
              "    (() => {\n",
              "      let quickchartButtonEl =\n",
              "        document.querySelector('#df-3a1fb133-56cd-489d-9019-021367a0dae9 button');\n",
              "      quickchartButtonEl.style.display =\n",
              "        google.colab.kernel.accessAllowed ? 'block' : 'none';\n",
              "    })();\n",
              "  </script>\n",
              "</div>\n",
              "\n",
              "    </div>\n",
              "  </div>\n"
            ],
            "application/vnd.google.colaboratory.intrinsic+json": {
              "type": "dataframe",
              "variable_name": "df_raw",
              "summary": "{\n  \"name\": \"df_raw\",\n  \"rows\": 45593,\n  \"fields\": [\n    {\n      \"column\": \"ID\",\n      \"properties\": {\n        \"dtype\": \"string\",\n        \"num_unique_values\": 45593,\n        \"samples\": [\n          \"0x38f7 \",\n          \"0x1cf1 \",\n          \"0x2838 \"\n        ],\n        \"semantic_type\": \"\",\n        \"description\": \"\"\n      }\n    },\n    {\n      \"column\": \"Delivery_person_ID\",\n      \"properties\": {\n        \"dtype\": \"category\",\n        \"num_unique_values\": 1320,\n        \"samples\": [\n          \"BANGRES02DEL03 \",\n          \"RANCHIRES02DEL02 \",\n          \"SURRES16DEL03 \"\n        ],\n        \"semantic_type\": \"\",\n        \"description\": \"\"\n      }\n    },\n    {\n      \"column\": \"Delivery_person_Age\",\n      \"properties\": {\n        \"dtype\": \"category\",\n        \"num_unique_values\": 23,\n        \"samples\": [\n          \"26\",\n          \"21\",\n          \"37\"\n        ],\n        \"semantic_type\": \"\",\n        \"description\": \"\"\n      }\n    },\n    {\n      \"column\": \"Delivery_person_Ratings\",\n      \"properties\": {\n        \"dtype\": \"category\",\n        \"num_unique_values\": 29,\n        \"samples\": [\n          \"2.9\",\n          \"2.6\",\n          \"NaN \"\n        ],\n        \"semantic_type\": \"\",\n        \"description\": \"\"\n      }\n    },\n    {\n      \"column\": \"Restaurant_latitude\",\n      \"properties\": {\n        \"dtype\": \"number\",\n        \"std\": 8.18510896521424,\n        \"min\": -30.905562,\n        \"max\": 30.914057,\n        \"num_unique_values\": 657,\n        \"samples\": [\n          -17.426228,\n          30.914057,\n          23.355164\n        ],\n        \"semantic_type\": \"\",\n        \"description\": \"\"\n      }\n    },\n    {\n      \"column\": \"Restaurant_longitude\",\n      \"properties\": {\n        \"dtype\": \"number\",\n        \"std\": 22.88364722309376,\n        \"min\": -88.366217,\n        \"max\": 88.433452,\n        \"num_unique_values\": 518,\n        \"samples\": [\n          72.789122,\n          80.315628,\n          85.33982\n        ],\n        \"semantic_type\": \"\",\n        \"description\": \"\"\n      }\n    },\n    {\n      \"column\": \"Delivery_location_latitude\",\n      \"properties\": {\n        \"dtype\": \"number\",\n        \"std\": 7.335121994514506,\n        \"min\": 0.01,\n        \"max\": 31.054057,\n        \"num_unique_values\": 4373,\n        \"samples\": [\n          23.394422,\n          12.453225,\n          19.085831\n        ],\n        \"semantic_type\": \"\",\n        \"description\": \"\"\n      }\n    },\n    {\n      \"column\": \"Delivery_location_longitude\",\n      \"properties\": {\n        \"dtype\": \"number\",\n        \"std\": 21.118811879085946,\n        \"min\": 0.01,\n        \"max\": 88.563452,\n        \"num_unique_values\": 4373,\n        \"samples\": [\n          85.3729,\n          76.760028,\n          72.863984\n        ],\n        \"semantic_type\": \"\",\n        \"description\": \"\"\n      }\n    },\n    {\n      \"column\": \"Order_Date\",\n      \"properties\": {\n        \"dtype\": \"object\",\n        \"num_unique_values\": 44,\n        \"samples\": [\n          \"16-02-2022\",\n          \"28-03-2022\",\n          \"18-03-2022\"\n        ],\n        \"semantic_type\": \"\",\n        \"description\": \"\"\n      }\n    },\n    {\n      \"column\": \"Time_Orderd\",\n      \"properties\": {\n        \"dtype\": \"category\",\n        \"num_unique_values\": 177,\n        \"samples\": [\n          \"22:30:00\",\n          \"22:10:00\",\n          \"17:35:00\"\n        ],\n        \"semantic_type\": \"\",\n        \"description\": \"\"\n      }\n    },\n    {\n      \"column\": \"Time_Order_picked\",\n      \"properties\": {\n        \"dtype\": \"object\",\n        \"num_unique_values\": 193,\n        \"samples\": [\n          \"22:55:00\",\n          \"12:00:00\",\n          \"21:40:00\"\n        ],\n        \"semantic_type\": \"\",\n        \"description\": \"\"\n      }\n    },\n    {\n      \"column\": \"Weatherconditions\",\n      \"properties\": {\n        \"dtype\": \"category\",\n        \"num_unique_values\": 7,\n        \"samples\": [\n          \"conditions Sunny\",\n          \"conditions Stormy\",\n          \"conditions Windy\"\n        ],\n        \"semantic_type\": \"\",\n        \"description\": \"\"\n      }\n    },\n    {\n      \"column\": \"Road_traffic_density\",\n      \"properties\": {\n        \"dtype\": \"category\",\n        \"num_unique_values\": 5,\n        \"samples\": [\n          \"Jam \",\n          \"NaN \",\n          \"Low \"\n        ],\n        \"semantic_type\": \"\",\n        \"description\": \"\"\n      }\n    },\n    {\n      \"column\": \"Vehicle_condition\",\n      \"properties\": {\n        \"dtype\": \"number\",\n        \"std\": 0,\n        \"min\": 0,\n        \"max\": 3,\n        \"num_unique_values\": 4,\n        \"samples\": [\n          0,\n          3,\n          2\n        ],\n        \"semantic_type\": \"\",\n        \"description\": \"\"\n      }\n    },\n    {\n      \"column\": \"Type_of_order\",\n      \"properties\": {\n        \"dtype\": \"category\",\n        \"num_unique_values\": 4,\n        \"samples\": [\n          \"Drinks \",\n          \"Meal \",\n          \"Snack \"\n        ],\n        \"semantic_type\": \"\",\n        \"description\": \"\"\n      }\n    },\n    {\n      \"column\": \"Type_of_vehicle\",\n      \"properties\": {\n        \"dtype\": \"category\",\n        \"num_unique_values\": 4,\n        \"samples\": [\n          \"scooter \",\n          \"bicycle \",\n          \"motorcycle \"\n        ],\n        \"semantic_type\": \"\",\n        \"description\": \"\"\n      }\n    },\n    {\n      \"column\": \"multiple_deliveries\",\n      \"properties\": {\n        \"dtype\": \"category\",\n        \"num_unique_values\": 5,\n        \"samples\": [\n          \"1\",\n          \"2\",\n          \"3\"\n        ],\n        \"semantic_type\": \"\",\n        \"description\": \"\"\n      }\n    },\n    {\n      \"column\": \"Festival\",\n      \"properties\": {\n        \"dtype\": \"category\",\n        \"num_unique_values\": 3,\n        \"samples\": [\n          \"No \",\n          \"Yes \",\n          \"NaN \"\n        ],\n        \"semantic_type\": \"\",\n        \"description\": \"\"\n      }\n    },\n    {\n      \"column\": \"City\",\n      \"properties\": {\n        \"dtype\": \"category\",\n        \"num_unique_values\": 4,\n        \"samples\": [\n          \"Metropolitian \",\n          \"NaN \",\n          \"Urban \"\n        ],\n        \"semantic_type\": \"\",\n        \"description\": \"\"\n      }\n    },\n    {\n      \"column\": \"Time_taken(min)\",\n      \"properties\": {\n        \"dtype\": \"category\",\n        \"num_unique_values\": 45,\n        \"samples\": [\n          \"(min) 43\",\n          \"(min) 28\",\n          \"(min) 52\"\n        ],\n        \"semantic_type\": \"\",\n        \"description\": \"\"\n      }\n    }\n  ]\n}"
            }
          },
          "metadata": {},
          "execution_count": 3
        }
      ]
    },
    {
      "cell_type": "markdown",
      "source": [
        "# Limpeza de dados"
      ],
      "metadata": {
        "id": "QFhWaFuCsb0i"
      }
    },
    {
      "cell_type": "code",
      "source": [
        "df = df_raw.copy()\n",
        "\n",
        "for i in range ( len (df) ):\n",
        "    df.loc[i,'ID'] = df.loc[i, 'ID'].strip()\n",
        "    df.loc[i, 'Delivery_person_ID'] = df.loc[i,'Delivery_person_ID'].strip()\n"
      ],
      "metadata": {
        "id": "rEEKMuqq3PJr"
      },
      "execution_count": 4,
      "outputs": []
    },
    {
      "cell_type": "code",
      "source": [
        "linhasvazias = df['Delivery_person_Age'] != 'NaN '\n",
        "df = df.loc[linhasvazias,:]\n",
        "df['Delivery_person_Age'] = df['Delivery_person_Age'].astype( int )\n",
        "df['Delivery_person_Ratings'] = df['Delivery_person_Ratings'].astype( float )\n",
        "df['Order_Date'] = pd.to_datetime(df['Order_Date'],format = '%d-%m-%Y')\n",
        "linhasvazias = df['multiple_deliveries'] != 'NaN '\n",
        "df = df.loc[linhasvazias, :]\n",
        "df['multiple_deliveries'] = df['multiple_deliveries'].astype( int )\n",
        "df = df.reset_index (drop = True)\n",
        "for i in range (len (df) ):\n",
        "    df.loc[i, 'Time_taken(min)'] = re.findall (r'\\d+', df.loc[i, 'Time_taken(min)'])"
      ],
      "metadata": {
        "id": "ckqILoxosbML",
        "colab": {
          "base_uri": "https://localhost:8080/"
        },
        "outputId": "e8f6369a-b3fe-4996-f51f-1906c7ce42c6",
        "collapsed": true
      },
      "execution_count": 5,
      "outputs": [
        {
          "output_type": "stream",
          "name": "stderr",
          "text": [
            "<ipython-input-5-ee6ebd010cf4>:3: SettingWithCopyWarning: \n",
            "A value is trying to be set on a copy of a slice from a DataFrame.\n",
            "Try using .loc[row_indexer,col_indexer] = value instead\n",
            "\n",
            "See the caveats in the documentation: https://pandas.pydata.org/pandas-docs/stable/user_guide/indexing.html#returning-a-view-versus-a-copy\n",
            "  df['Delivery_person_Age'] = df['Delivery_person_Age'].astype( int )\n",
            "<ipython-input-5-ee6ebd010cf4>:4: SettingWithCopyWarning: \n",
            "A value is trying to be set on a copy of a slice from a DataFrame.\n",
            "Try using .loc[row_indexer,col_indexer] = value instead\n",
            "\n",
            "See the caveats in the documentation: https://pandas.pydata.org/pandas-docs/stable/user_guide/indexing.html#returning-a-view-versus-a-copy\n",
            "  df['Delivery_person_Ratings'] = df['Delivery_person_Ratings'].astype( float )\n",
            "<ipython-input-5-ee6ebd010cf4>:5: SettingWithCopyWarning: \n",
            "A value is trying to be set on a copy of a slice from a DataFrame.\n",
            "Try using .loc[row_indexer,col_indexer] = value instead\n",
            "\n",
            "See the caveats in the documentation: https://pandas.pydata.org/pandas-docs/stable/user_guide/indexing.html#returning-a-view-versus-a-copy\n",
            "  df['Order_Date'] = pd.to_datetime(df['Order_Date'],format = '%d-%m-%Y')\n"
          ]
        }
      ]
    },
    {
      "cell_type": "code",
      "source": [
        "df1 = df.copy()"
      ],
      "metadata": {
        "id": "NqHLY3oN89Hx"
      },
      "execution_count": 6,
      "outputs": []
    },
    {
      "cell_type": "markdown",
      "source": [
        "##### 1. Qual o número total de entregadores cadastrados na base de dados?"
      ],
      "metadata": {
        "id": "J6-U9X0X6XQd"
      }
    },
    {
      "cell_type": "code",
      "source": [
        "df1['Delivery_person_ID'].count()"
      ],
      "metadata": {
        "id": "bW7PEgEx_BJp",
        "colab": {
          "base_uri": "https://localhost:8080/"
        },
        "outputId": "b6489f19-190b-4951-eecc-cb16319f9409"
      },
      "execution_count": 7,
      "outputs": [
        {
          "output_type": "execute_result",
          "data": {
            "text/plain": [
              "42805"
            ]
          },
          "metadata": {},
          "execution_count": 7
        }
      ]
    },
    {
      "cell_type": "markdown",
      "source": [
        "##### 2. Qual o número total de entregadores únicos cadastrados na base de dados?"
      ],
      "metadata": {
        "id": "wHYd-xcM7FVp"
      }
    },
    {
      "cell_type": "code",
      "source": [
        "df1['Delivery_person_ID'].nunique()"
      ],
      "metadata": {
        "id": "D_kDgVKk_EFJ",
        "colab": {
          "base_uri": "https://localhost:8080/"
        },
        "outputId": "9fb47934-aad7-4211-d594-28acb01a74eb"
      },
      "execution_count": 8,
      "outputs": [
        {
          "output_type": "execute_result",
          "data": {
            "text/plain": [
              "1320"
            ]
          },
          "metadata": {},
          "execution_count": 8
        }
      ]
    },
    {
      "cell_type": "markdown",
      "source": [
        "#####  3. Qual a idade do entregador mais velho? E do mais novo?"
      ],
      "metadata": {
        "id": "dcSDv8BO7KDv"
      }
    },
    {
      "cell_type": "code",
      "source": [
        "df1['Delivery_person_Age'].max()"
      ],
      "metadata": {
        "id": "lUW90LC1_Qwf",
        "colab": {
          "base_uri": "https://localhost:8080/"
        },
        "outputId": "b780c643-a34c-45dd-db87-c50921ed62fb"
      },
      "execution_count": 9,
      "outputs": [
        {
          "output_type": "execute_result",
          "data": {
            "text/plain": [
              "50"
            ]
          },
          "metadata": {},
          "execution_count": 9
        }
      ]
    },
    {
      "cell_type": "code",
      "source": [
        "df1['Delivery_person_Age'].min()"
      ],
      "metadata": {
        "colab": {
          "base_uri": "https://localhost:8080/"
        },
        "id": "KQvVxh3Uwtna",
        "outputId": "72858d9e-6c04-41c1-dc6b-b8c1278f9b48"
      },
      "execution_count": 10,
      "outputs": [
        {
          "output_type": "execute_result",
          "data": {
            "text/plain": [
              "15"
            ]
          },
          "metadata": {},
          "execution_count": 10
        }
      ]
    },
    {
      "cell_type": "markdown",
      "source": [
        "#####  4. Qual o ID do entregador com a maior idade? E o ID do entregaor com a menor idade?"
      ],
      "metadata": {
        "id": "VjwyUoil7Nk8"
      }
    },
    {
      "cell_type": "code",
      "source": [
        "Maior = df1.loc[(df1['Delivery_person_Age']==df1['Delivery_person_Age'].max())]['Delivery_person_ID']\n",
        "Menor = df1.loc[(df1['Delivery_person_Age']==df1['Delivery_person_Age'].min())]['Delivery_person_ID']\n",
        "\n",
        "contagemMaior = Maior.count()\n",
        "contagemMenor = Menor.count()\n",
        "\n",
        "print(f'Temos {contagemMaior} registros com a mesma maior idade e {contagemMenor} registros com a menor idade')\n",
        "print(f'O registro ID de 1 destes de maior idade é: {Maior.iloc[0]}')\n",
        "print(f'O registro ID de 1 destes de menor idade é: {Menor.iloc[0]}')\n"
      ],
      "metadata": {
        "id": "j2nTtZVr7VVA",
        "colab": {
          "base_uri": "https://localhost:8080/"
        },
        "outputId": "9547902c-d7cc-4f79-fb88-3bb74ba52a8b"
      },
      "execution_count": 11,
      "outputs": [
        {
          "output_type": "stream",
          "name": "stdout",
          "text": [
            "Temos 53 registros com a mesma maior idade e 38 registros com a menor idade\n",
            "O registro ID de 1 destes de maior idade é: BANGRES05DEL01\n",
            "O registro ID de 1 destes de menor idade é: JAPRES15DEL03\n"
          ]
        }
      ]
    },
    {
      "cell_type": "markdown",
      "source": [
        "#### 5. Quais os nomes das condições climáticas?"
      ],
      "metadata": {
        "id": "iYC7jWYr7V98"
      }
    },
    {
      "cell_type": "code",
      "source": [
        "df1[\"Weatherconditions\"].unique()\n"
      ],
      "metadata": {
        "id": "jAQiwvZW7kix",
        "colab": {
          "base_uri": "https://localhost:8080/"
        },
        "outputId": "f71f044a-6e67-455a-83eb-dab3032a0f0d"
      },
      "execution_count": 12,
      "outputs": [
        {
          "output_type": "execute_result",
          "data": {
            "text/plain": [
              "array(['conditions Sunny', 'conditions Stormy', 'conditions Sandstorms',\n",
              "       'conditions Cloudy', 'conditions Fog', 'conditions Windy',\n",
              "       'conditions NaN'], dtype=object)"
            ]
          },
          "metadata": {},
          "execution_count": 12
        }
      ]
    },
    {
      "cell_type": "markdown",
      "source": [
        "##### 6. Quantas entregas foram realizadas sob condições climáticas de tempestadede areia? ( Sandstorms )"
      ],
      "metadata": {
        "id": "yOxSEm8V7cPo"
      }
    },
    {
      "cell_type": "code",
      "source": [
        "len(df1.loc[df1[\"Weatherconditions\"]==\"conditions Sandstorms\"])"
      ],
      "metadata": {
        "id": "H39tpGFg7bJw",
        "colab": {
          "base_uri": "https://localhost:8080/"
        },
        "outputId": "60292b11-83c1-43d7-9fd0-199937ac9ea8"
      },
      "execution_count": 13,
      "outputs": [
        {
          "output_type": "execute_result",
          "data": {
            "text/plain": [
              "7083"
            ]
          },
          "metadata": {},
          "execution_count": 13
        }
      ]
    },
    {
      "cell_type": "markdown",
      "source": [
        "#### 7. Quais eram as condicões climáticas da data mais recente de entrega?"
      ],
      "metadata": {
        "id": "AJKcbmNE7lMZ"
      }
    },
    {
      "cell_type": "code",
      "source": [
        "dataRecente = df1.sort_values(['Order_Date','Time_Order_picked'], ascending = False)\n",
        "dataRecente.head(1)"
      ],
      "metadata": {
        "id": "0YbElozK7n44",
        "colab": {
          "base_uri": "https://localhost:8080/",
          "height": 101
        },
        "outputId": "3ec35c4f-d33f-4abb-92a7-f58b38df76c3"
      },
      "execution_count": 14,
      "outputs": [
        {
          "output_type": "execute_result",
          "data": {
            "text/plain": [
              "         ID Delivery_person_ID  Delivery_person_Age  Delivery_person_Ratings  \\\n",
              "396  0x1655      MUMRES16DEL01                   29                      4.8   \n",
              "\n",
              "     Restaurant_latitude  Restaurant_longitude  Delivery_location_latitude  \\\n",
              "396            19.120083             72.907385                   19.190083   \n",
              "\n",
              "     Delivery_location_longitude Order_Date Time_Orderd Time_Order_picked  \\\n",
              "396                    72.977385 2022-04-06    23:45:00          23:55:00   \n",
              "\n",
              "     Weatherconditions Road_traffic_density  Vehicle_condition Type_of_order  \\\n",
              "396  conditions Cloudy                 Low                   1       Drinks    \n",
              "\n",
              "    Type_of_vehicle  multiple_deliveries Festival            City  \\\n",
              "396     motorcycle                     1      No   Metropolitian    \n",
              "\n",
              "    Time_taken(min)  \n",
              "396            [23]  "
            ],
            "text/html": [
              "\n",
              "  <div id=\"df-bc2cf72e-021b-4a8a-8b7b-d18e9e8235d6\" class=\"colab-df-container\">\n",
              "    <div>\n",
              "<style scoped>\n",
              "    .dataframe tbody tr th:only-of-type {\n",
              "        vertical-align: middle;\n",
              "    }\n",
              "\n",
              "    .dataframe tbody tr th {\n",
              "        vertical-align: top;\n",
              "    }\n",
              "\n",
              "    .dataframe thead th {\n",
              "        text-align: right;\n",
              "    }\n",
              "</style>\n",
              "<table border=\"1\" class=\"dataframe\">\n",
              "  <thead>\n",
              "    <tr style=\"text-align: right;\">\n",
              "      <th></th>\n",
              "      <th>ID</th>\n",
              "      <th>Delivery_person_ID</th>\n",
              "      <th>Delivery_person_Age</th>\n",
              "      <th>Delivery_person_Ratings</th>\n",
              "      <th>Restaurant_latitude</th>\n",
              "      <th>Restaurant_longitude</th>\n",
              "      <th>Delivery_location_latitude</th>\n",
              "      <th>Delivery_location_longitude</th>\n",
              "      <th>Order_Date</th>\n",
              "      <th>Time_Orderd</th>\n",
              "      <th>Time_Order_picked</th>\n",
              "      <th>Weatherconditions</th>\n",
              "      <th>Road_traffic_density</th>\n",
              "      <th>Vehicle_condition</th>\n",
              "      <th>Type_of_order</th>\n",
              "      <th>Type_of_vehicle</th>\n",
              "      <th>multiple_deliveries</th>\n",
              "      <th>Festival</th>\n",
              "      <th>City</th>\n",
              "      <th>Time_taken(min)</th>\n",
              "    </tr>\n",
              "  </thead>\n",
              "  <tbody>\n",
              "    <tr>\n",
              "      <th>396</th>\n",
              "      <td>0x1655</td>\n",
              "      <td>MUMRES16DEL01</td>\n",
              "      <td>29</td>\n",
              "      <td>4.8</td>\n",
              "      <td>19.120083</td>\n",
              "      <td>72.907385</td>\n",
              "      <td>19.190083</td>\n",
              "      <td>72.977385</td>\n",
              "      <td>2022-04-06</td>\n",
              "      <td>23:45:00</td>\n",
              "      <td>23:55:00</td>\n",
              "      <td>conditions Cloudy</td>\n",
              "      <td>Low</td>\n",
              "      <td>1</td>\n",
              "      <td>Drinks</td>\n",
              "      <td>motorcycle</td>\n",
              "      <td>1</td>\n",
              "      <td>No</td>\n",
              "      <td>Metropolitian</td>\n",
              "      <td>[23]</td>\n",
              "    </tr>\n",
              "  </tbody>\n",
              "</table>\n",
              "</div>\n",
              "    <div class=\"colab-df-buttons\">\n",
              "\n",
              "  <div class=\"colab-df-container\">\n",
              "    <button class=\"colab-df-convert\" onclick=\"convertToInteractive('df-bc2cf72e-021b-4a8a-8b7b-d18e9e8235d6')\"\n",
              "            title=\"Convert this dataframe to an interactive table.\"\n",
              "            style=\"display:none;\">\n",
              "\n",
              "  <svg xmlns=\"http://www.w3.org/2000/svg\" height=\"24px\" viewBox=\"0 -960 960 960\">\n",
              "    <path d=\"M120-120v-720h720v720H120Zm60-500h600v-160H180v160Zm220 220h160v-160H400v160Zm0 220h160v-160H400v160ZM180-400h160v-160H180v160Zm440 0h160v-160H620v160ZM180-180h160v-160H180v160Zm440 0h160v-160H620v160Z\"/>\n",
              "  </svg>\n",
              "    </button>\n",
              "\n",
              "  <style>\n",
              "    .colab-df-container {\n",
              "      display:flex;\n",
              "      gap: 12px;\n",
              "    }\n",
              "\n",
              "    .colab-df-convert {\n",
              "      background-color: #E8F0FE;\n",
              "      border: none;\n",
              "      border-radius: 50%;\n",
              "      cursor: pointer;\n",
              "      display: none;\n",
              "      fill: #1967D2;\n",
              "      height: 32px;\n",
              "      padding: 0 0 0 0;\n",
              "      width: 32px;\n",
              "    }\n",
              "\n",
              "    .colab-df-convert:hover {\n",
              "      background-color: #E2EBFA;\n",
              "      box-shadow: 0px 1px 2px rgba(60, 64, 67, 0.3), 0px 1px 3px 1px rgba(60, 64, 67, 0.15);\n",
              "      fill: #174EA6;\n",
              "    }\n",
              "\n",
              "    .colab-df-buttons div {\n",
              "      margin-bottom: 4px;\n",
              "    }\n",
              "\n",
              "    [theme=dark] .colab-df-convert {\n",
              "      background-color: #3B4455;\n",
              "      fill: #D2E3FC;\n",
              "    }\n",
              "\n",
              "    [theme=dark] .colab-df-convert:hover {\n",
              "      background-color: #434B5C;\n",
              "      box-shadow: 0px 1px 3px 1px rgba(0, 0, 0, 0.15);\n",
              "      filter: drop-shadow(0px 1px 2px rgba(0, 0, 0, 0.3));\n",
              "      fill: #FFFFFF;\n",
              "    }\n",
              "  </style>\n",
              "\n",
              "    <script>\n",
              "      const buttonEl =\n",
              "        document.querySelector('#df-bc2cf72e-021b-4a8a-8b7b-d18e9e8235d6 button.colab-df-convert');\n",
              "      buttonEl.style.display =\n",
              "        google.colab.kernel.accessAllowed ? 'block' : 'none';\n",
              "\n",
              "      async function convertToInteractive(key) {\n",
              "        const element = document.querySelector('#df-bc2cf72e-021b-4a8a-8b7b-d18e9e8235d6');\n",
              "        const dataTable =\n",
              "          await google.colab.kernel.invokeFunction('convertToInteractive',\n",
              "                                                    [key], {});\n",
              "        if (!dataTable) return;\n",
              "\n",
              "        const docLinkHtml = 'Like what you see? Visit the ' +\n",
              "          '<a target=\"_blank\" href=https://colab.research.google.com/notebooks/data_table.ipynb>data table notebook</a>'\n",
              "          + ' to learn more about interactive tables.';\n",
              "        element.innerHTML = '';\n",
              "        dataTable['output_type'] = 'display_data';\n",
              "        await google.colab.output.renderOutput(dataTable, element);\n",
              "        const docLink = document.createElement('div');\n",
              "        docLink.innerHTML = docLinkHtml;\n",
              "        element.appendChild(docLink);\n",
              "      }\n",
              "    </script>\n",
              "  </div>\n",
              "\n",
              "\n",
              "    </div>\n",
              "  </div>\n"
            ],
            "application/vnd.google.colaboratory.intrinsic+json": {
              "type": "dataframe",
              "variable_name": "dataRecente",
              "summary": "{\n  \"name\": \"dataRecente\",\n  \"rows\": 42805,\n  \"fields\": [\n    {\n      \"column\": \"ID\",\n      \"properties\": {\n        \"dtype\": \"string\",\n        \"num_unique_values\": 42805,\n        \"samples\": [\n          \"0x7ee9\",\n          \"0xad6d\",\n          \"0x9f7b\"\n        ],\n        \"semantic_type\": \"\",\n        \"description\": \"\"\n      }\n    },\n    {\n      \"column\": \"Delivery_person_ID\",\n      \"properties\": {\n        \"dtype\": \"category\",\n        \"num_unique_values\": 1320,\n        \"samples\": [\n          \"HYDRES19DEL02\",\n          \"RANCHIRES09DEL03\",\n          \"BANGRES04DEL02\"\n        ],\n        \"semantic_type\": \"\",\n        \"description\": \"\"\n      }\n    },\n    {\n      \"column\": \"Delivery_person_Age\",\n      \"properties\": {\n        \"dtype\": \"number\",\n        \"std\": 5,\n        \"min\": 15,\n        \"max\": 50,\n        \"num_unique_values\": 22,\n        \"samples\": [\n          29,\n          22,\n          37\n        ],\n        \"semantic_type\": \"\",\n        \"description\": \"\"\n      }\n    },\n    {\n      \"column\": \"Delivery_person_Ratings\",\n      \"properties\": {\n        \"dtype\": \"number\",\n        \"std\": 0.33570395835805733,\n        \"min\": 1.0,\n        \"max\": 6.0,\n        \"num_unique_values\": 28,\n        \"samples\": [\n          3.7,\n          3.0,\n          3.8\n        ],\n        \"semantic_type\": \"\",\n        \"description\": \"\"\n      }\n    },\n    {\n      \"column\": \"Restaurant_latitude\",\n      \"properties\": {\n        \"dtype\": \"number\",\n        \"std\": 7.7628196339213265,\n        \"min\": -30.902872,\n        \"max\": 30.914057,\n        \"num_unique_values\": 521,\n        \"samples\": [\n          -30.319528,\n          18.994237,\n          26.902328\n        ],\n        \"semantic_type\": \"\",\n        \"description\": \"\"\n      }\n    },\n    {\n      \"column\": \"Restaurant_longitude\",\n      \"properties\": {\n        \"dtype\": \"number\",\n        \"std\": 21.449344659010855,\n        \"min\": -88.366217,\n        \"max\": 88.433452,\n        \"num_unique_values\": 415,\n        \"samples\": [\n          72.804342,\n          76.617889,\n          80.250744\n        ],\n        \"semantic_type\": \"\",\n        \"description\": \"\"\n      }\n    },\n    {\n      \"column\": \"Delivery_location_latitude\",\n      \"properties\": {\n        \"dtype\": \"number\",\n        \"std\": 7.338190082854957,\n        \"min\": 0.01,\n        \"max\": 31.054057,\n        \"num_unique_values\": 4366,\n        \"samples\": [\n          17.43233,\n          11.086298,\n          23.469033\n        ],\n        \"semantic_type\": \"\",\n        \"description\": \"\"\n      }\n    },\n    {\n      \"column\": \"Delivery_location_longitude\",\n      \"properties\": {\n        \"dtype\": \"number\",\n        \"std\": 21.11994138198043,\n        \"min\": 0.01,\n        \"max\": 88.563452,\n        \"num_unique_values\": 4366,\n        \"samples\": [\n          78.469654,\n          77.042076,\n          85.435347\n        ],\n        \"semantic_type\": \"\",\n        \"description\": \"\"\n      }\n    },\n    {\n      \"column\": \"Order_Date\",\n      \"properties\": {\n        \"dtype\": \"date\",\n        \"min\": \"2022-02-11 00:00:00\",\n        \"max\": \"2022-04-06 00:00:00\",\n        \"num_unique_values\": 44,\n        \"samples\": [\n          \"2022-02-17 00:00:00\",\n          \"2022-03-12 00:00:00\",\n          \"2022-03-11 00:00:00\"\n        ],\n        \"semantic_type\": \"\",\n        \"description\": \"\"\n      }\n    },\n    {\n      \"column\": \"Time_Orderd\",\n      \"properties\": {\n        \"dtype\": \"category\",\n        \"num_unique_values\": 177,\n        \"samples\": [\n          \"22:10:00\",\n          \"19:50:00\",\n          \"11:25:00\"\n        ],\n        \"semantic_type\": \"\",\n        \"description\": \"\"\n      }\n    },\n    {\n      \"column\": \"Time_Order_picked\",\n      \"properties\": {\n        \"dtype\": \"object\",\n        \"num_unique_values\": 193,\n        \"samples\": [\n          \"20:10:00\",\n          \"12:35:00\",\n          \"17:35:00\"\n        ],\n        \"semantic_type\": \"\",\n        \"description\": \"\"\n      }\n    },\n    {\n      \"column\": \"Weatherconditions\",\n      \"properties\": {\n        \"dtype\": \"category\",\n        \"num_unique_values\": 7,\n        \"samples\": [\n          \"conditions Cloudy\",\n          \"conditions Windy\",\n          \"conditions Sunny\"\n        ],\n        \"semantic_type\": \"\",\n        \"description\": \"\"\n      }\n    },\n    {\n      \"column\": \"Road_traffic_density\",\n      \"properties\": {\n        \"dtype\": \"category\",\n        \"num_unique_values\": 5,\n        \"samples\": [\n          \"Jam \",\n          \"High \",\n          \"NaN \"\n        ],\n        \"semantic_type\": \"\",\n        \"description\": \"\"\n      }\n    },\n    {\n      \"column\": \"Vehicle_condition\",\n      \"properties\": {\n        \"dtype\": \"number\",\n        \"std\": 0,\n        \"min\": 0,\n        \"max\": 3,\n        \"num_unique_values\": 4,\n        \"samples\": [\n          0,\n          3,\n          1\n        ],\n        \"semantic_type\": \"\",\n        \"description\": \"\"\n      }\n    },\n    {\n      \"column\": \"Type_of_order\",\n      \"properties\": {\n        \"dtype\": \"category\",\n        \"num_unique_values\": 4,\n        \"samples\": [\n          \"Meal \",\n          \"Snack \",\n          \"Drinks \"\n        ],\n        \"semantic_type\": \"\",\n        \"description\": \"\"\n      }\n    },\n    {\n      \"column\": \"Type_of_vehicle\",\n      \"properties\": {\n        \"dtype\": \"category\",\n        \"num_unique_values\": 4,\n        \"samples\": [\n          \"scooter \",\n          \"bicycle \",\n          \"motorcycle \"\n        ],\n        \"semantic_type\": \"\",\n        \"description\": \"\"\n      }\n    },\n    {\n      \"column\": \"multiple_deliveries\",\n      \"properties\": {\n        \"dtype\": \"number\",\n        \"std\": 0,\n        \"min\": 0,\n        \"max\": 3,\n        \"num_unique_values\": 4,\n        \"samples\": [\n          0,\n          3,\n          1\n        ],\n        \"semantic_type\": \"\",\n        \"description\": \"\"\n      }\n    },\n    {\n      \"column\": \"Festival\",\n      \"properties\": {\n        \"dtype\": \"category\",\n        \"num_unique_values\": 3,\n        \"samples\": [\n          \"No \",\n          \"NaN \",\n          \"Yes \"\n        ],\n        \"semantic_type\": \"\",\n        \"description\": \"\"\n      }\n    },\n    {\n      \"column\": \"City\",\n      \"properties\": {\n        \"dtype\": \"category\",\n        \"num_unique_values\": 4,\n        \"samples\": [\n          \"NaN \",\n          \"Semi-Urban \",\n          \"Metropolitian \"\n        ],\n        \"semantic_type\": \"\",\n        \"description\": \"\"\n      }\n    },\n    {\n      \"column\": \"Time_taken(min)\",\n      \"properties\": {\n        \"dtype\": \"object\",\n        \"semantic_type\": \"\",\n        \"description\": \"\"\n      }\n    }\n  ]\n}"
            }
          },
          "metadata": {},
          "execution_count": 14
        }
      ]
    },
    {
      "cell_type": "markdown",
      "source": [
        "####  8. Quantos tipos de densidade de trânsito existem na base de dados? Quais os nomes delas?"
      ],
      "metadata": {
        "id": "ids0TyQN7opQ"
      }
    },
    {
      "cell_type": "code",
      "source": [
        "tiposDensidade = df1.loc[df1['Road_traffic_density'] != \"NaN \"]\n",
        "print(tiposDensidade[\"Road_traffic_density\"].nunique())\n",
        "tiposDensidade[\"Road_traffic_density\"].unique()\n"
      ],
      "metadata": {
        "id": "FRSobxDM7spw",
        "colab": {
          "base_uri": "https://localhost:8080/"
        },
        "outputId": "b6b44158-e477-4ff0-e205-c653decaf1d1"
      },
      "execution_count": 15,
      "outputs": [
        {
          "output_type": "stream",
          "name": "stdout",
          "text": [
            "4\n"
          ]
        },
        {
          "output_type": "execute_result",
          "data": {
            "text/plain": [
              "array(['High ', 'Jam ', 'Low ', 'Medium '], dtype=object)"
            ]
          },
          "metadata": {},
          "execution_count": 15
        }
      ]
    },
    {
      "cell_type": "markdown",
      "source": [],
      "metadata": {
        "id": "T1mtT4IV0no6"
      }
    },
    {
      "cell_type": "markdown",
      "source": [
        "##### 9. Quantas entregas foram feitas em cada condição climática?"
      ],
      "metadata": {
        "id": "Lvz1wiCW7tM4"
      }
    },
    {
      "cell_type": "code",
      "source": [
        "condClimatica = df1.loc[df1['Weatherconditions']!= \"conditions NaN\"]\n",
        "condClimaticaunica = condClimatica[\"Weatherconditions\"].unique()\n",
        "for cond in condClimaticaunica:\n",
        "    print(f' {cond}, entregas realizadas = ',len(df1[df1['Weatherconditions'] == cond]) )\n"
      ],
      "metadata": {
        "id": "MoYpwaZq7wVw",
        "colab": {
          "base_uri": "https://localhost:8080/"
        },
        "outputId": "704757c9-2072-47c8-fb4a-09abe9ec13bc"
      },
      "execution_count": 16,
      "outputs": [
        {
          "output_type": "stream",
          "name": "stdout",
          "text": [
            " conditions Sunny, entregas realizadas =  6904\n",
            " conditions Stormy, entregas realizadas =  7226\n",
            " conditions Sandstorms, entregas realizadas =  7083\n",
            " conditions Cloudy, entregas realizadas =  7135\n",
            " conditions Fog, entregas realizadas =  7288\n",
            " conditions Windy, entregas realizadas =  7078\n"
          ]
        }
      ]
    },
    {
      "cell_type": "markdown",
      "source": [
        "##### 10. Quantos entregadores únicos fizeram entregas em cada condição climática?"
      ],
      "metadata": {
        "id": "UTyeaD3i7xS4"
      }
    },
    {
      "cell_type": "code",
      "source": [
        "for cond in condClimaticaunica:\n",
        "    entUnicos = df1[df1['Weatherconditions'] == cond]\n",
        "    print(f'{cond}, entregadores únicos =  {entUnicos[\"Delivery_person_ID\"].nunique()} ')"
      ],
      "metadata": {
        "id": "ENcHXb217z9x",
        "colab": {
          "base_uri": "https://localhost:8080/"
        },
        "outputId": "9cdc5a2c-6b98-4c76-e59e-2a0a135ccac8"
      },
      "execution_count": 17,
      "outputs": [
        {
          "output_type": "stream",
          "name": "stdout",
          "text": [
            "conditions Sunny, entregadores únicos =  1233 \n",
            "conditions Stormy, entregadores únicos =  1234 \n",
            "conditions Sandstorms, entregadores únicos =  1239 \n",
            "conditions Cloudy, entregadores únicos =  1246 \n",
            "conditions Fog, entregadores únicos =  1251 \n",
            "conditions Windy, entregadores únicos =  1230 \n"
          ]
        }
      ]
    },
    {
      "cell_type": "markdown",
      "source": [
        "##### 11. Quantas entregas foram feitas em cada tipo de densidade de trânsito?"
      ],
      "metadata": {
        "id": "hXN9vRxW70kc"
      }
    },
    {
      "cell_type": "code",
      "source": [
        "tiposUnicosDensi = tiposDensidade[\"Road_traffic_density\"].unique()\n",
        "for tiposDensi in tiposUnicosDensi:\n",
        "    print(f' {tiposDensi}, entregas realizadas = ',len(df1[df1['Road_traffic_density'] == tiposDensi]) )\n"
      ],
      "metadata": {
        "id": "WPqVA0nK73u4",
        "colab": {
          "base_uri": "https://localhost:8080/"
        },
        "outputId": "52b31a27-21f9-48af-cb5e-3b0066a79324"
      },
      "execution_count": 18,
      "outputs": [
        {
          "output_type": "stream",
          "name": "stdout",
          "text": [
            " High , entregas realizadas =  4212\n",
            " Jam , entregas realizadas =  13480\n",
            " Low , entregas realizadas =  14605\n",
            " Medium , entregas realizadas =  10417\n"
          ]
        }
      ]
    },
    {
      "cell_type": "markdown",
      "source": [
        "####  12. Quantos entregadores únicos fizeram entregas em cada tipo de densidade de trânsito?"
      ],
      "metadata": {
        "id": "Cy5fypsN74X8"
      }
    },
    {
      "cell_type": "code",
      "source": [
        "for tiposDensi in tiposUnicosDensi:\n",
        "    densiUnicos = df1[df1['Road_traffic_density'] == tiposDensi]\n",
        "    print(f'{tiposDensi}, entregadores únicos =  {densiUnicos[\"Delivery_person_ID\"].count()} ')"
      ],
      "metadata": {
        "id": "G71wQNM_79Bm",
        "colab": {
          "base_uri": "https://localhost:8080/"
        },
        "outputId": "f24ade85-7039-47f8-ee68-d223567cf6cd"
      },
      "execution_count": 19,
      "outputs": [
        {
          "output_type": "stream",
          "name": "stdout",
          "text": [
            "High , entregadores únicos =  4212 \n",
            "Jam , entregadores únicos =  13480 \n",
            "Low , entregadores únicos =  14605 \n",
            "Medium , entregadores únicos =  10417 \n"
          ]
        }
      ]
    },
    {
      "cell_type": "markdown",
      "source": [
        "#### 13. Quantas cidades únicas existem na base? Quais são os seus nomes?"
      ],
      "metadata": {
        "id": "hmaDmujZ78DO"
      }
    },
    {
      "cell_type": "code",
      "source": [
        "cidades = df1[df1['City']!= \"NaN \"]\n",
        "print(cidades['City'].nunique())\n",
        "cidades['City'].unique()"
      ],
      "metadata": {
        "id": "7IUN-02B8DM5",
        "colab": {
          "base_uri": "https://localhost:8080/"
        },
        "outputId": "d3083e30-c303-4e7b-e2c9-ff6db760cb91"
      },
      "execution_count": 20,
      "outputs": [
        {
          "output_type": "stream",
          "name": "stdout",
          "text": [
            "3\n"
          ]
        },
        {
          "output_type": "execute_result",
          "data": {
            "text/plain": [
              "array(['Urban ', 'Metropolitian ', 'Semi-Urban '], dtype=object)"
            ]
          },
          "metadata": {},
          "execution_count": 20
        }
      ]
    },
    {
      "cell_type": "markdown",
      "source": [
        "#### 14. Quantos tipos de veículos únicos existem na base?"
      ],
      "metadata": {
        "id": "3apJQ1Di8EDe"
      }
    },
    {
      "cell_type": "code",
      "source": [
        "veiculos = df1.loc[df1['Type_of_vehicle']!= \"NaN \"]\n",
        "veiculos['Type_of_vehicle'].nunique()"
      ],
      "metadata": {
        "id": "iALnoI298G0p",
        "colab": {
          "base_uri": "https://localhost:8080/"
        },
        "outputId": "5222c674-35c6-4e4b-ab9f-40cff8383ccd"
      },
      "execution_count": 21,
      "outputs": [
        {
          "output_type": "execute_result",
          "data": {
            "text/plain": [
              "4"
            ]
          },
          "metadata": {},
          "execution_count": 21
        }
      ]
    },
    {
      "cell_type": "markdown",
      "source": [
        "##### 15. Qual o tipo de veículo que mais fez entregas com a condição de trânsito pesado? ( High )"
      ],
      "metadata": {
        "id": "NZGErTFC8IM8"
      }
    },
    {
      "cell_type": "code",
      "source": [
        "densidadeHigh = df1.loc[df1['Road_traffic_density'] != \"High\"]\n",
        "veiculoUnico = densidadeHigh['Type_of_vehicle'].unique()\n",
        "for tipoVeic in veiculoUnico:\n",
        "    print ()"
      ],
      "metadata": {
        "id": "C7QcCYTu8Hsw",
        "colab": {
          "base_uri": "https://localhost:8080/"
        },
        "outputId": "4cd1fa41-a01d-4723-e67b-d17a2141cfdd"
      },
      "execution_count": 22,
      "outputs": [
        {
          "output_type": "stream",
          "name": "stdout",
          "text": [
            "\n",
            "\n",
            "\n",
            "\n"
          ]
        }
      ]
    },
    {
      "cell_type": "markdown",
      "source": [
        "##### 16. Qual o tipo de pedido mais feito durante condições climáticas de tempestade de areia?"
      ],
      "metadata": {
        "id": "BlXUlfp18Qtg"
      }
    },
    {
      "cell_type": "code",
      "source": [
        "pedidoMaisfeito = df1[df1['Weatherconditions']=='conditions Sandstorms']\n",
        "pedidosUnicos = pedidoMaisfeito['Type_of_order'].unique()\n",
        "print('Análise de pedido mais feito durante condição climática Tempestade de areia')\n",
        "for pedUni in pedidosUnicos:\n",
        "    print(f' - {pedUni} : ',pedidoMaisfeito[pedidoMaisfeito['Type_of_order'] == pedUni]['Type_of_order'].count())\n"
      ],
      "metadata": {
        "id": "cWUdKvRi8VUA",
        "colab": {
          "base_uri": "https://localhost:8080/"
        },
        "outputId": "60510434-283c-45ae-8608-d4640916e5bf"
      },
      "execution_count": 23,
      "outputs": [
        {
          "output_type": "stream",
          "name": "stdout",
          "text": [
            "Análise de pedido mais feito durante condição climática Tempestade de areia\n",
            " - Drinks  :  1734\n",
            " - Buffet  :  1732\n",
            " - Snack  :  1805\n",
            " - Meal  :  1812\n"
          ]
        }
      ]
    },
    {
      "cell_type": "markdown",
      "source": [
        "##### 17. Qual a cidade com o maior número de pedidos de Bebidas (Drinks) feito em Scooter?"
      ],
      "metadata": {
        "id": "icRZSc7s8WXA"
      }
    },
    {
      "cell_type": "code",
      "source": [
        "cidadesUnicas = cidades['City'].unique()\n",
        "for cid in cidadesUnicas:\n",
        "   print(f' Pedidos Drink entregues de Scooter {cid} = ', cidades[(cidades['City']==cid) & (cidades['Type_of_order']==\"Drinks \") & (cidades['Type_of_vehicle']==\"scooter \")]['City'].count())\n"
      ],
      "metadata": {
        "id": "BdbjhBqZ8gK_",
        "colab": {
          "base_uri": "https://localhost:8080/"
        },
        "outputId": "56054bd0-6ff4-4df7-8cc2-21ec7934cca0"
      },
      "execution_count": 24,
      "outputs": [
        {
          "output_type": "stream",
          "name": "stdout",
          "text": [
            " Pedidos Drink entregues de Scooter Urban  =  847\n",
            " Pedidos Drink entregues de Scooter Metropolitian  =  2655\n",
            " Pedidos Drink entregues de Scooter Semi-Urban  =  1\n"
          ]
        }
      ]
    },
    {
      "cell_type": "markdown",
      "source": [
        "#### 18. Qual o nome da cidade com o (os) entregador mais velho? E o nome da cidade com o (os) entregadores mais novos?"
      ],
      "metadata": {
        "id": "NMwyAstY8gnb"
      }
    },
    {
      "cell_type": "code",
      "source": [
        "maisVelhos = cidades.loc[cidades['Delivery_person_Age'] == cidades['Delivery_person_Age'].max()]\n",
        "maisNovos = cidades.loc[cidades['Delivery_person_Age'] == cidades['Delivery_person_Age'].min()]\n",
        "\n",
        "print('Mais Velhos')\n",
        "for cid in cidadesUnicas:\n",
        "    print(f' {cid}', maisVelhos[maisVelhos['City']==cid]['City'].count())\n",
        "\n",
        "print(50 * \"-\")\n",
        "\n",
        "print(\"Mais Novos\")\n",
        "for cid in cidadesUnicas:\n",
        "    print(f' {cid}',maisNovos[maisNovos['City']==cid]['City'].count())\n",
        "\n",
        "\n"
      ],
      "metadata": {
        "id": "Ef0tnzn28kn-",
        "colab": {
          "base_uri": "https://localhost:8080/"
        },
        "outputId": "b5ac3b75-e86d-4e66-ff0c-3ef7c4f2f6e4"
      },
      "execution_count": 71,
      "outputs": [
        {
          "output_type": "stream",
          "name": "stdout",
          "text": [
            "Mais Velhos\n",
            " Urban  14\n",
            " Metropolitian  37\n",
            " Semi-Urban  0\n",
            "--------------------------------------------------\n",
            "Mais Novos\n",
            " Urban  11\n",
            " Metropolitian  27\n",
            " Semi-Urban  0\n"
          ]
        }
      ]
    },
    {
      "cell_type": "markdown",
      "source": [
        "####  19. Quantas entregas foram feitas durante o Festival?"
      ],
      "metadata": {
        "id": "b7LLmkJU8lC0"
      }
    },
    {
      "cell_type": "code",
      "source": [
        "print(df1.loc[df1['Festival']=='Yes ']['Festival'].count())"
      ],
      "metadata": {
        "id": "zseAjYpG8nso",
        "colab": {
          "base_uri": "https://localhost:8080/"
        },
        "outputId": "9644eaf9-6493-4661-83fb-40edbd2f08fb"
      },
      "execution_count": 80,
      "outputs": [
        {
          "output_type": "stream",
          "name": "stdout",
          "text": [
            "848\n"
          ]
        }
      ]
    },
    {
      "cell_type": "markdown",
      "source": [
        "####  20. Quantas cidades únicas tiveram entregas feitas durante o Festival?"
      ],
      "metadata": {
        "id": "6QnPBTzu8oI0"
      }
    },
    {
      "cell_type": "code",
      "source": [
        "festival = df1.loc[(df1['Festival']=='Yes ') & (df1['City']!= \"NaN \")]\n",
        "print( len(festival['City'].unique()) )"
      ],
      "metadata": {
        "id": "VDdabacg8qcw",
        "colab": {
          "base_uri": "https://localhost:8080/"
        },
        "outputId": "61b8ee06-0847-45a7-a535-863d252054fd"
      },
      "execution_count": 84,
      "outputs": [
        {
          "output_type": "stream",
          "name": "stdout",
          "text": [
            "3\n"
          ]
        }
      ]
    },
    {
      "cell_type": "markdown",
      "source": [
        "####  21. Quantas entregas foram feitas durante o Festival na cidade chamada Urban (\"Urban\")"
      ],
      "metadata": {
        "id": "SRFEbUjm8qz0"
      }
    },
    {
      "cell_type": "code",
      "source": [
        "len( festival['City']==\"Uban \")"
      ],
      "metadata": {
        "id": "WlkXRJBc8tkA",
        "colab": {
          "base_uri": "https://localhost:8080/"
        },
        "outputId": "9426a4a4-b71f-47c5-da2a-7cfcbffdc944"
      },
      "execution_count": 85,
      "outputs": [
        {
          "output_type": "execute_result",
          "data": {
            "text/plain": [
              "835"
            ]
          },
          "metadata": {},
          "execution_count": 85
        }
      ]
    }
  ],
  "metadata": {
    "colab": {
      "provenance": [],
      "authorship_tag": "ABX9TyPEJaHUxjpROJmtHt4lcaGK",
      "include_colab_link": true
    },
    "kernelspec": {
      "display_name": "Python 3",
      "name": "python3"
    },
    "language_info": {
      "name": "python"
    }
  },
  "nbformat": 4,
  "nbformat_minor": 0
}