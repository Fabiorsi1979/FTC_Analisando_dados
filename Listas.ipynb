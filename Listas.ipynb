{
  "nbformat": 4,
  "nbformat_minor": 0,
  "metadata": {
    "colab": {
      "provenance": [],
      "authorship_tag": "ABX9TyNcY9fwGX+fNFeILq2utjPk",
      "include_colab_link": true
    },
    "kernelspec": {
      "name": "python3",
      "display_name": "Python 3"
    },
    "language_info": {
      "name": "python"
    }
  },
  "cells": [
    {
      "cell_type": "markdown",
      "metadata": {
        "id": "view-in-github",
        "colab_type": "text"
      },
      "source": [
        "<a href=\"https://colab.research.google.com/github/Fabiorsi1979/FTC_Analisando_dados/blob/main/Listas.ipynb\" target=\"_parent\"><img src=\"https://colab.research.google.com/assets/colab-badge.svg\" alt=\"Open In Colab\"/></a>"
      ]
    },
    {
      "cell_type": "markdown",
      "source": [
        "# Exercícios Simples de listas"
      ],
      "metadata": {
        "id": "x-GaupyYW8Q7"
      }
    },
    {
      "cell_type": "markdown",
      "source": [
        "##### Some o valor 10 a todos os elementos abaixo, guarde os resultados em uma lista e mostre-os para o usuário ao final do script.\n",
        "\n",
        "    10, 11, 423, 2034, 134, 11, 3, 23, 34, 758, 9, 10, 14, 2, 412,34, 123,  \n",
        "    4132, 4, 12, 3412, 34, 12, 34132, 41, 234, 1, 23,4, 12, 3, 41, 2, 4123"
      ],
      "metadata": {
        "id": "rMEeeSgGXPLY"
      }
    },
    {
      "cell_type": "code",
      "execution_count": null,
      "metadata": {
        "colab": {
          "base_uri": "https://localhost:8080/"
        },
        "id": "9KHtoSuJV8-M",
        "outputId": "57705fbb-75a7-48f5-b554-49c0d81f854c"
      },
      "outputs": [
        {
          "output_type": "stream",
          "name": "stdout",
          "text": [
            "[20, 21, 433, 2044, 144, 21, 13, 33, 44, 768, 19, 20, 24, 12, 422, 44, 133, 4142, 14, 22, 3422, 44, 22, 34142, 51, 244, 11, 33, 14, 22, 13, 51, 12, 4133]\n"
          ]
        }
      ],
      "source": [
        "Some10 = [10,11,423,2034,134,11,3,23,34,758,9,10,14,2,412,34,123,4132,4,12,3412,34,12,34132,41,234,1,23,4,12,3,41,2,4123]\n",
        "resultado = []\n",
        "\n",
        "for x in range(0,len(Some10)):\n",
        "  resultado.append(int(Some10[x] + 10))\n",
        "\n",
        "print(resultado)\n",
        "\n"
      ]
    },
    {
      "cell_type": "markdown",
      "source": [
        "#####  Percorra todos os elementos da lista e some 10 aos valores entre 0 e 10,multiplique por 20 os valores entre 11 e 50, subtraia 30 dos valores entre 51 e 100 e divida por 2 os valores acima de 100\n",
        "\n",
        "    10, 11, 423, 2034, 134, 11, 3, 23, 34, 758, 9, 10, 14, 2, 412,34, 123,  \n",
        "    132, 4, 12, 3412, 34, 12, 34132, 41, 234, 1, 23,4, 12, 3, 41, 2, 4123"
      ],
      "metadata": {
        "id": "9RLntSgjbFT5"
      }
    },
    {
      "cell_type": "code",
      "source": [
        "calc_dvs = [ 10, 11, 423, 2034, 134, 11, 3, 23, 34, 758, 9, 10, 14, 2, 412,34, 123, 4132, 4, 12, 3412, 34, 12, 34132, 41, 234, 1, 23,4, 12, 3, 41, 2, 4123 ]\n",
        "resposta = []\n",
        "for x in range(0, len(calc_dvs)):\n",
        "  if calc_dvs[x] > 100:\n",
        "    resposta.append(float(calc_dvs[x]/2))\n",
        "  elif 11 <= calc_dvs[x] <= 50:\n",
        "    resposta.append(calc_dvs[x]*20)\n",
        "  elif 10 >= calc_dvs[x]:\n",
        "    resposta.append(calc_dvs[x]+10)\n",
        "  else:\n",
        "    resposta.append(calc_dvs[x]-30)\n",
        "\n",
        "\n",
        "print(resposta)\n",
        "\n"
      ],
      "metadata": {
        "colab": {
          "base_uri": "https://localhost:8080/"
        },
        "id": "E6P8xG4lbS0t",
        "outputId": "4ae72913-11c3-44f3-e7a2-33b434c6e947"
      },
      "execution_count": null,
      "outputs": [
        {
          "output_type": "stream",
          "name": "stdout",
          "text": [
            "[20, 220, 211.5, 1017.0, 67.0, 220, 13, 460, 680, 379.0, 19, 20, 280, 12, 206.0, 680, 61.5, 2066.0, 14, 240, 1706.0, 680, 240, 17066.0, 820, 117.0, 11, 460, 14, 240, 13, 820, 12, 2061.5]\n"
          ]
        }
      ]
    },
    {
      "cell_type": "markdown",
      "source": [
        "#####  Crie um script em Python que exiba, cinquenta e duas vezes, a seguinte mensagem “Um valor foi removido da lista”. Além disso, esse script deve mostrar, junto com a mensagem, o número de vezes em que a mensagem foi exibida."
      ],
      "metadata": {
        "id": "JDZbjddNWs1X"
      }
    },
    {
      "cell_type": "code",
      "source": [
        "for x in range(1,53):\n",
        "  print (f\"{x}º aviso. Um valor foi removido da lista.\")"
      ],
      "metadata": {
        "colab": {
          "base_uri": "https://localhost:8080/"
        },
        "id": "AoKmgvwgxH3Q",
        "outputId": "9d36049f-929a-47a3-a73f-a244ee3e71d9"
      },
      "execution_count": 3,
      "outputs": [
        {
          "output_type": "stream",
          "name": "stdout",
          "text": [
            "1º aviso. Um valor foi removido da lista.\n",
            "2º aviso. Um valor foi removido da lista.\n",
            "3º aviso. Um valor foi removido da lista.\n",
            "4º aviso. Um valor foi removido da lista.\n",
            "5º aviso. Um valor foi removido da lista.\n",
            "6º aviso. Um valor foi removido da lista.\n",
            "7º aviso. Um valor foi removido da lista.\n",
            "8º aviso. Um valor foi removido da lista.\n",
            "9º aviso. Um valor foi removido da lista.\n",
            "10º aviso. Um valor foi removido da lista.\n",
            "11º aviso. Um valor foi removido da lista.\n",
            "12º aviso. Um valor foi removido da lista.\n",
            "13º aviso. Um valor foi removido da lista.\n",
            "14º aviso. Um valor foi removido da lista.\n",
            "15º aviso. Um valor foi removido da lista.\n",
            "16º aviso. Um valor foi removido da lista.\n",
            "17º aviso. Um valor foi removido da lista.\n",
            "18º aviso. Um valor foi removido da lista.\n",
            "19º aviso. Um valor foi removido da lista.\n",
            "20º aviso. Um valor foi removido da lista.\n",
            "21º aviso. Um valor foi removido da lista.\n",
            "22º aviso. Um valor foi removido da lista.\n",
            "23º aviso. Um valor foi removido da lista.\n",
            "24º aviso. Um valor foi removido da lista.\n",
            "25º aviso. Um valor foi removido da lista.\n",
            "26º aviso. Um valor foi removido da lista.\n",
            "27º aviso. Um valor foi removido da lista.\n",
            "28º aviso. Um valor foi removido da lista.\n",
            "29º aviso. Um valor foi removido da lista.\n",
            "30º aviso. Um valor foi removido da lista.\n",
            "31º aviso. Um valor foi removido da lista.\n",
            "32º aviso. Um valor foi removido da lista.\n",
            "33º aviso. Um valor foi removido da lista.\n",
            "34º aviso. Um valor foi removido da lista.\n",
            "35º aviso. Um valor foi removido da lista.\n",
            "36º aviso. Um valor foi removido da lista.\n",
            "37º aviso. Um valor foi removido da lista.\n",
            "38º aviso. Um valor foi removido da lista.\n",
            "39º aviso. Um valor foi removido da lista.\n",
            "40º aviso. Um valor foi removido da lista.\n",
            "41º aviso. Um valor foi removido da lista.\n",
            "42º aviso. Um valor foi removido da lista.\n",
            "43º aviso. Um valor foi removido da lista.\n",
            "44º aviso. Um valor foi removido da lista.\n",
            "45º aviso. Um valor foi removido da lista.\n",
            "46º aviso. Um valor foi removido da lista.\n",
            "47º aviso. Um valor foi removido da lista.\n",
            "48º aviso. Um valor foi removido da lista.\n",
            "49º aviso. Um valor foi removido da lista.\n",
            "50º aviso. Um valor foi removido da lista.\n",
            "51º aviso. Um valor foi removido da lista.\n",
            "52º aviso. Um valor foi removido da lista.\n"
          ]
        }
      ]
    }
  ]
}